{
 "cells": [
  {
   "cell_type": "markdown",
   "id": "e8047c22-0d71-4b2d-b491-3a1fa3538d5c",
   "metadata": {},
   "source": [
    "# OCR lora finetuning and merging using Unsloth"
   ]
  },
  {
   "cell_type": "markdown",
   "id": "6f9a8c1b-34ba-4087-a523-33024c606b19",
   "metadata": {},
   "source": [
    "## Import required libraries"
   ]
  },
  {
   "cell_type": "code",
   "execution_count": 1,
   "id": "cca84808-92aa-4347-adab-fedbd970afd1",
   "metadata": {},
   "outputs": [
    {
     "name": "stdout",
     "output_type": "stream",
     "text": [
      "🦥 Unsloth: Will patch your computer to enable 2x faster free finetuning.\n",
      "🦥 Unsloth Zoo will now patch everything to make training faster!\n"
     ]
    }
   ],
   "source": [
    "from unsloth import FastVisionModel"
   ]
  },
  {
   "cell_type": "code",
   "execution_count": 2,
   "id": "ee2b80d4-e8a0-4818-b804-08abeb232cbe",
   "metadata": {},
   "outputs": [],
   "source": [
    "import torch\n",
    "from transformers import AutoModelForVision2Seq, AutoProcessor, BitsAndBytesConfig,Qwen2VLProcessor\n",
    "from peft import LoraConfig\n",
    "from qwen_vl_utils import process_vision_info\n",
    "import torch\n",
    "from torch.utils.data import Dataset\n",
    "import os\n",
    "from PIL import Image\n",
    "import glob\n",
    "from datasets import load_dataset\n",
    "from trl import SFTTrainer, SFTConfig\n",
    "import random"
   ]
  },
  {
   "cell_type": "markdown",
   "id": "8b4dbc54-87b1-4dee-9ada-4e6a081a9747",
   "metadata": {},
   "source": [
    "## Dataset Preparation"
   ]
  },
  {
   "cell_type": "code",
   "execution_count": 3,
   "id": "318fd0ae-3d3f-4dee-94d3-598aa8a3d9a9",
   "metadata": {},
   "outputs": [
    {
     "data": {
      "application/vnd.jupyter.widget-view+json": {
       "model_id": "5ec94804d4ee4509863d147ae9993bee",
       "version_major": 2,
       "version_minor": 0
      },
      "text/plain": [
       "Resolving data files:   0%|          | 0/50 [00:00<?, ?it/s]"
      ]
     },
     "metadata": {},
     "output_type": "display_data"
    },
    {
     "data": {
      "application/vnd.jupyter.widget-view+json": {
       "model_id": "3cc38b0912f5417eb400609495412261",
       "version_major": 2,
       "version_minor": 0
      },
      "text/plain": [
       "Resolving data files:   0%|          | 0/50 [00:00<?, ?it/s]"
      ]
     },
     "metadata": {},
     "output_type": "display_data"
    },
    {
     "data": {
      "application/vnd.jupyter.widget-view+json": {
       "model_id": "a112932ceeb545cc8492db5f423051c1",
       "version_major": 2,
       "version_minor": 0
      },
      "text/plain": [
       "Loading dataset shards:   0%|          | 0/50 [00:00<?, ?it/s]"
      ]
     },
     "metadata": {},
     "output_type": "display_data"
    }
   ],
   "source": [
    "from datasets import load_dataset\n",
    "\n",
    "dataset = load_dataset(\"lbourdois/OCR-liboaccn-OPUS-MIT-5M-clean\", 'en', split=\"train\")\n",
    "# To select the first 2000 examples\n",
    "train_dataset = dataset.select(range(2000))\n",
    "\n",
    "# To select the next 200 examples for evaluation\n",
    "eval_dataset = dataset.select(range(2000, 2200))\n",
    "\n",
    "# Convert dataset to OAI messages       \n",
    "def format_data(sample):\n",
    "    return {\"messages\": [\n",
    "                {\n",
    "                    \"role\": \"system\",\n",
    "                    \"content\": [{\"type\": \"text\", \"text\": system_message}],\n",
    "                },\n",
    "                {\n",
    "                    \"role\": \"user\",\n",
    "                    \"content\": [\n",
    "                        {\n",
    "                            \"type\": \"text\",\n",
    "                            \"text\": sample[\"question\"],\n",
    "                        },{\n",
    "                            \"type\": \"image\",\n",
    "                            \"image\": sample[\"image\"],\n",
    "                        }\n",
    "                    ],\n",
    "                },\n",
    "                {\n",
    "                    \"role\": \"assistant\",\n",
    "                    \"content\": [{\"type\": \"text\", \"text\": sample[\"answer\"]}],\n",
    "                },\n",
    "            ],\n",
    "        }\n",
    "\n",
    "system_message = \"You are an expert french ocr system.\"\n",
    "# Convert dataset to OAI messages\n",
    "# need to use list comprehension to keep Pil.Image type, .mape convert image to bytes\n",
    "train_dataset = [format_data(sample) for sample in train_dataset]\n",
    "eval_dataset = [format_data(sample) for sample in eval_dataset]"
   ]
  },
  {
   "cell_type": "markdown",
   "id": "e856f92a-559a-4ad8-9b57-19d24b1b3b6a",
   "metadata": {},
   "source": [
    "## Setup OCR main evaluation function and helpers"
   ]
  },
  {
   "cell_type": "code",
   "execution_count": 5,
   "id": "fe86acab-20ae-434f-a89c-cd1202c82083",
   "metadata": {},
   "outputs": [],
   "source": [
    "import os\n",
    "import torch\n",
    "from tqdm import tqdm\n",
    "import pandas as pd\n",
    "from jiwer import wer, cer\n",
    "from qwen_vl_utils import process_vision_info\n",
    "\n",
    "def evaluate_ocr_model(model, processor, dataset, output_dir=\"ocr_evaluation_results\"):\n",
    "    \"\"\"\n",
    "    Evaluate a Qwen VL model on an OCR dataset with specific structure.\n",
    "    \n",
    "    Args:\n",
    "        model: The loaded Qwen VL model\n",
    "        processor: The Qwen processor/tokenizer\n",
    "        dataset: List of items with 'messages' field containing conversation exchanges\n",
    "        output_dir: Directory to save results\n",
    "    \n",
    "    Returns:\n",
    "        tuple: (average WER, average CER)\n",
    "    \"\"\"\n",
    "    # Create output directory if it doesn't exist\n",
    "    os.makedirs(output_dir, exist_ok=True)\n",
    "    \n",
    "    # Initialize results storage\n",
    "    results = []\n",
    "    \n",
    "    # Process each sample in the dataset\n",
    "    for i, sample in enumerate(tqdm(dataset, desc=\"Evaluating OCR performance\")):\n",
    "        try:\n",
    "            # Extract the messages from the sample\n",
    "            messages = sample['messages']\n",
    "            \n",
    "            # Extract system message (if present)\n",
    "            system_message = next((msg for msg in messages if msg['role'] == 'system'), None)\n",
    "            \n",
    "            # Extract user message with the image and question\n",
    "            user_message = next((msg for msg in messages if msg['role'] == 'user'), None)\n",
    "            if not user_message:\n",
    "                print(f\"Skipping sample {i}: No user message found\")\n",
    "                continue\n",
    "                \n",
    "            # Extract assistant message with ground truth\n",
    "            assistant_message = next((msg for msg in messages if msg['role'] == 'assistant'), None)\n",
    "            if not assistant_message:\n",
    "                print(f\"Skipping sample {i}: No assistant message (ground truth) found\")\n",
    "                continue\n",
    "            \n",
    "            # Extract ground truth text\n",
    "            ground_truth = None\n",
    "            for content_item in assistant_message['content']:\n",
    "                if content_item['type'] == 'text':\n",
    "                    ground_truth = content_item['text']\n",
    "                    break\n",
    "                    \n",
    "            if not ground_truth:\n",
    "                print(f\"Skipping sample {i}: No text found in assistant message\")\n",
    "                continue\n",
    "            \n",
    "            # Extract image and question from user message\n",
    "            image = None\n",
    "            question = None\n",
    "            \n",
    "            for content_item in user_message['content']:\n",
    "                if content_item['type'] == 'image':\n",
    "                    image = content_item['image']\n",
    "                elif content_item['type'] == 'text':\n",
    "                    question = content_item['text']\n",
    "            \n",
    "            if not image:\n",
    "                print(f\"Skipping sample {i}: No image found in user message\")\n",
    "                continue\n",
    "                \n",
    "            if not question:\n",
    "                print(f\"Skipping sample {i}: No question found in user message\")\n",
    "                continue\n",
    "            \n",
    "            # Construct messages for the model input (excluding assistant message)\n",
    "            input_messages = []\n",
    "            \n",
    "            # Add system message if it exists\n",
    "            if system_message:\n",
    "                input_messages.append(system_message)\n",
    "            \n",
    "            # Add user message\n",
    "            input_messages.append(user_message)\n",
    "            \n",
    "            # Preparation for inference using Qwen's specific processing\n",
    "            text = processor.apply_chat_template(\n",
    "                input_messages, tokenize=False, add_generation_prompt=True\n",
    "            )\n",
    "            \n",
    "            # Process vision info (images/videos) from messages\n",
    "            image_inputs, video_inputs = process_vision_info(input_messages)\n",
    "            \n",
    "            # Create model inputs\n",
    "            inputs = processor(\n",
    "                text=[text],\n",
    "                images=image_inputs,\n",
    "                videos=video_inputs,\n",
    "                padding=True,\n",
    "                return_tensors=\"pt\"\n",
    "            )\n",
    "            inputs = inputs.to(model.device)\n",
    "            \n",
    "            # Generate response\n",
    "            with torch.no_grad():\n",
    "                generated_ids = model.generate(\n",
    "                    **inputs, \n",
    "                    max_new_tokens=1024, \n",
    "                    # top_p=0.9, \n",
    "                    # temperature=1.0\n",
    "                    temperature=1.5, \n",
    "                    min_p=0.1,\n",
    "                    use_cache=True\n",
    "                )\n",
    "            \n",
    "            # Extract only the generated part (not the input)\n",
    "            generated_ids_trimmed = [\n",
    "                out_ids[len(in_ids):] for in_ids, out_ids in zip(inputs.input_ids, generated_ids)\n",
    "            ]\n",
    "            \n",
    "            # Decode the generated text\n",
    "            generated_response = processor.batch_decode(\n",
    "                generated_ids_trimmed, \n",
    "                skip_special_tokens=True, \n",
    "                clean_up_tokenization_spaces=False\n",
    "            )[0]\n",
    "            \n",
    "            # Calculate metrics\n",
    "            word_error = wer(ground_truth, generated_response)\n",
    "            char_error = cer(ground_truth, generated_response)\n",
    "            \n",
    "            # Save individual result\n",
    "            output_file = os.path.join(output_dir, f\"sample_{i}.txt\")\n",
    "            with open(output_file, 'w', encoding='utf-8') as f:\n",
    "                f.write(f\"Sample {i}\\n\")\n",
    "                f.write(f\"Question: {question}\\n\\n\")\n",
    "                f.write(f\"Model output:\\n{generated_response.strip()}\\n\\n\")\n",
    "                f.write(f\"Ground truth:\\n{ground_truth}\\n\\n\")\n",
    "                f.write(f\"WER: {word_error:.4f}, CER: {char_error:.4f}\")\n",
    "            \n",
    "            # Store results for summary\n",
    "            results.append({\n",
    "                'sample_id': i,\n",
    "                'wer': word_error,\n",
    "                'cer': char_error,\n",
    "                'model_output': generated_response.strip(),\n",
    "                'ground_truth': ground_truth,\n",
    "                'question': question\n",
    "            })\n",
    "            \n",
    "        except Exception as e:\n",
    "            print(f\"Error processing sample {i}: {str(e)}\")\n",
    "            import traceback\n",
    "            traceback.print_exc()\n",
    "            \n",
    "    # Create summary report\n",
    "    if results:\n",
    "        df = pd.DataFrame(results)\n",
    "        \n",
    "        # Calculate overall averages\n",
    "        avg_wer = df['wer'].mean()\n",
    "        avg_cer = df['cer'].mean()\n",
    "        \n",
    "        # Save average metrics\n",
    "        with open(os.path.join(output_dir, \"avg_metrics.txt\"), 'w') as f:\n",
    "            f.write(f\"Average WER: {avg_wer:.4f}\\n\")\n",
    "            f.write(f\"Average CER: {avg_cer:.4f}\\n\")\n",
    "        \n",
    "        # Save detailed results\n",
    "        df.to_csv(os.path.join(output_dir, \"detailed_results.csv\"), index=False)\n",
    "        \n",
    "        print(\"\\nResults Summary:\")\n",
    "        print(f\"Average WER: {avg_wer:.4f}\")\n",
    "        print(f\"Average CER: {avg_cer:.4f}\")\n",
    "        print(f\"\\nDetailed results saved to {output_dir}/\")\n",
    "        \n",
    "        return avg_wer, avg_cer\n",
    "    else:\n",
    "        print(\"No results to summarize.\")\n",
    "        return None, None\n",
    "\n",
    "\n",
    "# At the beginning of your notebook, define a variable to collect results\n",
    "model_comparison_results = {}\n",
    "\n",
    "# Create a simple function to add results to the comparison\n",
    "def add_to_comparison(model_name, wer, cer):\n",
    "    \"\"\"Add model results to the comparison tracker\"\"\"\n",
    "    model_comparison_results[model_name] = {\n",
    "        \"wer\": wer,\n",
    "        \"cer\": cer\n",
    "    }\n",
    "    #return model_comparison_results\n",
    "\n",
    "# Create a function to print the comparison report whenever needed\n",
    "def print_model_comparison(save_csv=True, save_plot=True):\n",
    "    \"\"\"Print a comparison of all models evaluated so far\"\"\"\n",
    "    if not model_comparison_results:\n",
    "        print(\"No model results available for comparison\")\n",
    "        return\n",
    "        \n",
    "    print(\"\\n==== MODEL COMPARISON REPORT ====\")\n",
    "    \n",
    "    # Create a comparison dataframe\n",
    "    comparison_df = pd.DataFrame({\n",
    "        \"Model\": list(model_comparison_results.keys()),\n",
    "        \"WER\": [results[\"wer\"] for results in model_comparison_results.values()],\n",
    "        \"CER\": [results[\"cer\"] for results in model_comparison_results.values()]\n",
    "    })\n",
    "    \n",
    "    # Sort by WER (best performance first)\n",
    "    comparison_df = comparison_df.sort_values(\"WER\")\n",
    "    \n",
    "    # Display the comparison table\n",
    "    print(\"\\nComparison Table (sorted by WER):\")\n",
    "    print(comparison_df.to_string(index=False))\n",
    "    \n",
    "    # Save the comparison table\n",
    "    if save_csv:\n",
    "        comparison_file = \"model_comparison_results.csv\"\n",
    "        comparison_df.to_csv(comparison_file, index=False)\n",
    "        print(f\"\\nComparison table saved to {comparison_file}\")\n",
    "    \n",
    "    # Generate a bar chart visualization\n",
    "    if save_plot:\n",
    "        import matplotlib.pyplot as plt\n",
    "        plt.figure(figsize=(12, 6))\n",
    "        \n",
    "        # Plot WER\n",
    "        plt.subplot(1, 2, 1)\n",
    "        plt.bar(comparison_df[\"Model\"], comparison_df[\"WER\"], color='skyblue')\n",
    "        plt.title('Word Error Rate Comparison')\n",
    "        plt.ylabel('WER (lower is better)')\n",
    "        plt.ylim(bottom=0)\n",
    "        plt.xticks(rotation=45, ha='right')\n",
    "        \n",
    "        # Plot CER\n",
    "        plt.subplot(1, 2, 2)\n",
    "        plt.bar(comparison_df[\"Model\"], comparison_df[\"CER\"], color='lightgreen')\n",
    "        plt.title('Character Error Rate Comparison')\n",
    "        plt.ylabel('CER (lower is better)')\n",
    "        plt.ylim(bottom=0)\n",
    "        plt.xticks(rotation=45, ha='right')\n",
    "        \n",
    "        plt.tight_layout()\n",
    "        plt.savefig('ocr_model_comparison.png')\n",
    "        plt.show()\n",
    "        \n",
    "        print(f\"\\nVisualization saved to ocr_model_comparison.png\")\n",
    "    \n",
    "    return comparison_df"
   ]
  },
  {
   "cell_type": "markdown",
   "id": "c5907eb2-cdd6-422b-ae22-b403cb0787fb",
   "metadata": {},
   "source": [
    "## Finetuning Setup and Run"
   ]
  },
  {
   "cell_type": "code",
   "execution_count": 6,
   "id": "dd535c06-d2a3-4acc-8044-6ec4eae3fb51",
   "metadata": {},
   "outputs": [
    {
     "name": "stdout",
     "output_type": "stream",
     "text": [
      "==((====))==  Unsloth 2025.5.6: Fast Qwen2 patching. Transformers: 4.51.3.\n",
      "   \\\\   /|    NVIDIA A100-SXM4-80GB. Num GPUs = 1. Max memory: 79.254 GB. Platform: Linux.\n",
      "O^O/ \\_/ \\    Torch: 2.7.0+cu126. CUDA: 8.0. CUDA Toolkit: 12.6. Triton: 3.3.0\n",
      "\\        /    Bfloat16 = TRUE. FA [Xformers = 0.0.30. FA2 = True]\n",
      " \"-____-\"     Free license: http://github.com/unslothai/unsloth\n",
      "Unsloth: Fast downloading is enabled - ignore downloading bars which are red colored!\n"
     ]
    },
    {
     "name": "stderr",
     "output_type": "stream",
     "text": [
      "Using a slow image processor as `use_fast` is unset and a slow processor was saved with this model. `use_fast=True` will be the default behavior in v4.52, even if the model was saved with a slow processor. This will result in minor differences in outputs. You'll still be able to use a slow processor with `use_fast=False`.\n"
     ]
    }
   ],
   "source": [
    "# Load Base Model\n",
    "\n",
    "model, tokenizer = FastVisionModel.from_pretrained(\n",
    "    model_name = \"unsloth/Qwen2-VL-7B-Instruct\",\n",
    "    max_seq_length = 2048, # Choose any for long context!\n",
    "    load_in_4bit = True,  # 4 bit quantization to reduce memory\n",
    "    load_in_8bit = False, # [NEW!] A bit more accurate, uses 2x memory\n",
    "    full_finetuning = False, # [NEW!] We have full finetuning now!\n",
    ")"
   ]
  },
  {
   "cell_type": "code",
   "execution_count": 7,
   "id": "a2c20bdc-fce5-48f9-86b2-a3cda70fedf1",
   "metadata": {},
   "outputs": [
    {
     "name": "stderr",
     "output_type": "stream",
     "text": [
      "Evaluating OCR performance: 100%|████████████████████████████████████████████████████████████████████████████████████████████| 200/200 [03:18<00:00,  1.01it/s]"
     ]
    },
    {
     "name": "stdout",
     "output_type": "stream",
     "text": [
      "\n",
      "Results Summary:\n",
      "Average WER: 0.1707\n",
      "Average CER: 0.0899\n",
      "\n",
      "Detailed results saved to unsloth_base_model_results/\n"
     ]
    },
    {
     "name": "stderr",
     "output_type": "stream",
     "text": [
      "\n"
     ]
    }
   ],
   "source": [
    "# benchmark base model performance\n",
    "model_name = \"Unsloth Base model\" \n",
    "FastVisionModel.for_inference(model)\n",
    "avg_wer, avg_cer = evaluate_ocr_model(model, tokenizer, eval_dataset, output_dir=\"unsloth_base_model_results\")\n",
    "add_to_comparison(model_name, avg_wer, avg_cer)"
   ]
  },
  {
   "cell_type": "markdown",
   "id": "7bd230c0-e335-41a6-9f6a-531e224d3176",
   "metadata": {},
   "source": [
    "## Lora Finetuning"
   ]
  },
  {
   "cell_type": "code",
   "execution_count": 8,
   "id": "69efdf0e-9acd-4813-9b54-2c592a55f58b",
   "metadata": {},
   "outputs": [
    {
     "name": "stdout",
     "output_type": "stream",
     "text": [
      "Unsloth: Making `model.base_model.model.model` require gradients\n"
     ]
    }
   ],
   "source": [
    "model = FastVisionModel.get_peft_model(\n",
    "    model,\n",
    "    finetune_vision_layers     = True, # Turn off for just text!\n",
    "    finetune_language_layers   = True,  # Should leave on!\n",
    "    finetune_attention_modules = True,  # Attention good for GRPO\n",
    "    finetune_mlp_modules       = True,  # SHould leave on always!\n",
    "\n",
    "    r = 16, # Choose any number > 0 ! Suggested 8, 16, 32, 64, 128\n",
    "    target_modules = [\"q_proj\", \"k_proj\", \"v_proj\", \"o_proj\",\n",
    "                      \"gate_proj\", \"up_proj\", \"down_proj\",],\n",
    "    lora_alpha = 32,\n",
    "    lora_dropout = 0, # Supports any, but = 0 is optimized\n",
    "    bias = \"none\",    # Supports any, but = \"none\" is optimized\n",
    "    # [NEW] \"unsloth\" uses 30% less VRAM, fits 2x larger batch sizes!\n",
    "    use_gradient_checkpointing = \"unsloth\", # True or \"unsloth\" for very long context\n",
    "    random_state = 3407,\n",
    "    use_rslora = False,  # We support rank stabilized LoRA\n",
    "    loftq_config = None, # And LoftQ\n",
    ")"
   ]
  },
  {
   "cell_type": "code",
   "execution_count": 14,
   "id": "2065fd3e-046c-4abc-b09b-4c5955ecd828",
   "metadata": {},
   "outputs": [
    {
     "name": "stdout",
     "output_type": "stream",
     "text": [
      "Unsloth: Model does not have a default image size - using 512\n"
     ]
    }
   ],
   "source": [
    "from unsloth import is_bf16_supported\n",
    "from unsloth.trainer import UnslothVisionDataCollator\n",
    "FastVisionModel.for_training(model) # Enable for training!\n",
    "model.config.use_cache = False\n",
    "\n",
    "\n",
    "trainer = SFTTrainer(\n",
    "    model = model,\n",
    "    tokenizer = tokenizer,\n",
    "    data_collator = UnslothVisionDataCollator(model, tokenizer),\n",
    "    train_dataset = train_dataset,\n",
    "    args = SFTConfig(\n",
    "        per_device_train_batch_size = 4,\n",
    "        gradient_accumulation_steps = 8,\n",
    "        gradient_checkpointing=True,\n",
    "        gradient_checkpointing_kwargs = {\"use_reentrant\": False}, # use reentrant checkpointing\n",
    "        max_grad_norm=0.3,                      # max gradient norm based on QLoRA paper\n",
    "        warmup_ratio=0.03,\n",
    "        num_train_epochs = 2, # Set this instead of max_steps for full training runs\n",
    "        learning_rate = 2e-4,\n",
    "        fp16 = not is_bf16_supported(),\n",
    "        bf16 = is_bf16_supported(),\n",
    "        logging_steps = 5,\n",
    "        save_strategy=\"epoch\",\n",
    "        optim = \"adamw_torch_fused\",\n",
    "        weight_decay = 0.01,\n",
    "        lr_scheduler_type = \"linear\",\n",
    "        seed = 3407,\n",
    "        output_dir = \"unsloth-qwen2-7vl-french-ocr-checkpoints\",\n",
    "        report_to = \"none\",     # For Weights and Biases\n",
    "\n",
    "        # You MUST put the below items for vision finetuning:\n",
    "        remove_unused_columns = False,\n",
    "        dataset_text_field = \"\",\n",
    "        dataset_kwargs = {\"skip_prepare_dataset\": True},\n",
    "        dataset_num_proc = 4,\n",
    "        max_seq_length = 2048,\n",
    "    ),\n",
    ")"
   ]
  },
  {
   "cell_type": "code",
   "execution_count": 15,
   "id": "2f6a6c1b-c467-4c83-9fe7-82b599b0fed5",
   "metadata": {},
   "outputs": [
    {
     "name": "stderr",
     "output_type": "stream",
     "text": [
      "==((====))==  Unsloth - 2x faster free finetuning | Num GPUs used = 1\n",
      "   \\\\   /|    Num examples = 2,000 | Num Epochs = 2 | Total steps = 124\n",
      "O^O/ \\_/ \\    Batch size per device = 4 | Gradient accumulation steps = 8\n",
      "\\        /    Data Parallel GPUs = 1 | Total batch size (4 x 8 x 1) = 32\n",
      " \"-____-\"     Trainable parameters = 40,370,176/7,000,000,000 (0.58% trained)\n"
     ]
    },
    {
     "data": {
      "text/html": [
       "\n",
       "    <div>\n",
       "      \n",
       "      <progress value='124' max='124' style='width:300px; height:20px; vertical-align: middle;'></progress>\n",
       "      [124/124 06:43, Epoch 1/2]\n",
       "    </div>\n",
       "    <table border=\"1\" class=\"dataframe\">\n",
       "  <thead>\n",
       " <tr style=\"text-align: left;\">\n",
       "      <th>Step</th>\n",
       "      <th>Training Loss</th>\n",
       "    </tr>\n",
       "  </thead>\n",
       "  <tbody>\n",
       "    <tr>\n",
       "      <td>5</td>\n",
       "      <td>1.925900</td>\n",
       "    </tr>\n",
       "    <tr>\n",
       "      <td>10</td>\n",
       "      <td>0.400700</td>\n",
       "    </tr>\n",
       "    <tr>\n",
       "      <td>15</td>\n",
       "      <td>0.097200</td>\n",
       "    </tr>\n",
       "    <tr>\n",
       "      <td>20</td>\n",
       "      <td>0.071300</td>\n",
       "    </tr>\n",
       "    <tr>\n",
       "      <td>25</td>\n",
       "      <td>0.076500</td>\n",
       "    </tr>\n",
       "    <tr>\n",
       "      <td>30</td>\n",
       "      <td>0.071400</td>\n",
       "    </tr>\n",
       "    <tr>\n",
       "      <td>35</td>\n",
       "      <td>0.071600</td>\n",
       "    </tr>\n",
       "    <tr>\n",
       "      <td>40</td>\n",
       "      <td>0.069200</td>\n",
       "    </tr>\n",
       "    <tr>\n",
       "      <td>45</td>\n",
       "      <td>0.065900</td>\n",
       "    </tr>\n",
       "    <tr>\n",
       "      <td>50</td>\n",
       "      <td>0.068000</td>\n",
       "    </tr>\n",
       "    <tr>\n",
       "      <td>55</td>\n",
       "      <td>0.067500</td>\n",
       "    </tr>\n",
       "    <tr>\n",
       "      <td>60</td>\n",
       "      <td>0.063200</td>\n",
       "    </tr>\n",
       "    <tr>\n",
       "      <td>65</td>\n",
       "      <td>0.063400</td>\n",
       "    </tr>\n",
       "    <tr>\n",
       "      <td>70</td>\n",
       "      <td>0.059700</td>\n",
       "    </tr>\n",
       "    <tr>\n",
       "      <td>75</td>\n",
       "      <td>0.060100</td>\n",
       "    </tr>\n",
       "    <tr>\n",
       "      <td>80</td>\n",
       "      <td>0.060500</td>\n",
       "    </tr>\n",
       "    <tr>\n",
       "      <td>85</td>\n",
       "      <td>0.061000</td>\n",
       "    </tr>\n",
       "    <tr>\n",
       "      <td>90</td>\n",
       "      <td>0.060400</td>\n",
       "    </tr>\n",
       "    <tr>\n",
       "      <td>95</td>\n",
       "      <td>0.058000</td>\n",
       "    </tr>\n",
       "    <tr>\n",
       "      <td>100</td>\n",
       "      <td>0.059600</td>\n",
       "    </tr>\n",
       "    <tr>\n",
       "      <td>105</td>\n",
       "      <td>0.058900</td>\n",
       "    </tr>\n",
       "    <tr>\n",
       "      <td>110</td>\n",
       "      <td>0.059300</td>\n",
       "    </tr>\n",
       "    <tr>\n",
       "      <td>115</td>\n",
       "      <td>0.056900</td>\n",
       "    </tr>\n",
       "    <tr>\n",
       "      <td>120</td>\n",
       "      <td>0.058500</td>\n",
       "    </tr>\n",
       "  </tbody>\n",
       "</table><p>"
      ],
      "text/plain": [
       "<IPython.core.display.HTML object>"
      ]
     },
     "metadata": {},
     "output_type": "display_data"
    },
    {
     "data": {
      "text/plain": [
       "[]"
      ]
     },
     "execution_count": 15,
     "metadata": {},
     "output_type": "execute_result"
    }
   ],
   "source": [
    "# run training\n",
    "trainer_stats = trainer.train()\n",
    "\n",
    "model.save_pretrained(\"unsloth-qwen2-7vl-french-ocr-adapter\", tokenizer)\n",
    "tokenizer.save_pretrained(\"unsloth-qwen2-7vl-french-ocr-adapter\")"
   ]
  },
  {
   "cell_type": "markdown",
   "id": "1867d58b-290e-4716-9d7e-fe2c55fb3bdb",
   "metadata": {},
   "source": [
    "## Measure Adapter Performance"
   ]
  },
  {
   "cell_type": "code",
   "execution_count": 16,
   "id": "3bd3aa9c-d058-47d4-bab7-cd342041cd41",
   "metadata": {},
   "outputs": [
    {
     "name": "stderr",
     "output_type": "stream",
     "text": [
      "Evaluating OCR performance: 100%|████████████████████████████████████████████████████████████████████████████████████████████| 200/200 [05:27<00:00,  1.64s/it]"
     ]
    },
    {
     "name": "stdout",
     "output_type": "stream",
     "text": [
      "\n",
      "Results Summary:\n",
      "Average WER: 0.0059\n",
      "Average CER: 0.0010\n",
      "\n",
      "Detailed results saved to unsloth_lora_model_results/\n"
     ]
    },
    {
     "name": "stderr",
     "output_type": "stream",
     "text": [
      "\n"
     ]
    }
   ],
   "source": [
    "# benchmark lora model performance\n",
    "model_name = \"Unsloth lora adapter model\" \n",
    "FastVisionModel.for_inference(model)\n",
    "avg_wer, avg_cer = evaluate_ocr_model(model, tokenizer, eval_dataset, output_dir=\"unsloth_lora_model_results\")\n",
    "add_to_comparison(model_name, avg_wer, avg_cer)"
   ]
  },
  {
   "cell_type": "markdown",
   "id": "afe505b0-987d-4696-9d45-13b41491fa89",
   "metadata": {},
   "source": [
    "## Merge Model"
   ]
  },
  {
   "cell_type": "code",
   "execution_count": 17,
   "id": "7ca527a3-231e-487d-b46b-330c406479bf",
   "metadata": {},
   "outputs": [
    {
     "name": "stdout",
     "output_type": "stream",
     "text": [
      "Found HuggingFace hub cache directory: /home/mlengineer/.cache/huggingface/hub\n",
      "Checking cache directory for required files...\n",
      "Cache check failed: model-00001-of-00004.safetensors not found in local cache.\n",
      "Not all required files found in cache. Will proceed with downloading.\n",
      "Downloading safetensors index for unsloth/qwen2-vl-7b-instruct...\n"
     ]
    },
    {
     "data": {
      "application/vnd.jupyter.widget-view+json": {
       "model_id": "b0c244d0e1df48ebbdd7d2573d6d5971",
       "version_major": 2,
       "version_minor": 0
      },
      "text/plain": [
       "model.safetensors.index.json:   0%|          | 0.00/56.5k [00:00<?, ?B/s]"
      ]
     },
     "metadata": {},
     "output_type": "display_data"
    },
    {
     "name": "stderr",
     "output_type": "stream",
     "text": [
      "Unsloth: Merging weights into 16bit:   0%|                                                                                               | 0/4 [00:00<?, ?it/s]"
     ]
    },
    {
     "data": {
      "application/vnd.jupyter.widget-view+json": {
       "model_id": "573962eaabc543e1ad06d2af9600b40d",
       "version_major": 2,
       "version_minor": 0
      },
      "text/plain": [
       "model-00001-of-00004.safetensors:   0%|          | 0.00/4.97G [00:00<?, ?B/s]"
      ]
     },
     "metadata": {},
     "output_type": "display_data"
    },
    {
     "name": "stderr",
     "output_type": "stream",
     "text": [
      "Unsloth: Merging weights into 16bit:  25%|█████████████████████▊                                                                 | 1/4 [00:27<01:23, 27.67s/it]"
     ]
    },
    {
     "data": {
      "application/vnd.jupyter.widget-view+json": {
       "model_id": "1a62a14c6163478eb0c152274224ea12",
       "version_major": 2,
       "version_minor": 0
      },
      "text/plain": [
       "model-00002-of-00004.safetensors:   0%|          | 0.00/4.99G [00:00<?, ?B/s]"
      ]
     },
     "metadata": {},
     "output_type": "display_data"
    },
    {
     "name": "stderr",
     "output_type": "stream",
     "text": [
      "Unsloth: Merging weights into 16bit:  50%|███████████████████████████████████████████▌                                           | 2/4 [01:00<01:01, 30.85s/it]"
     ]
    },
    {
     "data": {
      "application/vnd.jupyter.widget-view+json": {
       "model_id": "15b190b780db45e1861ed659449156ff",
       "version_major": 2,
       "version_minor": 0
      },
      "text/plain": [
       "model-00003-of-00004.safetensors:   0%|          | 0.00/4.93G [00:00<?, ?B/s]"
      ]
     },
     "metadata": {},
     "output_type": "display_data"
    },
    {
     "name": "stderr",
     "output_type": "stream",
     "text": [
      "Unsloth: Merging weights into 16bit:  75%|█████████████████████████████████████████████████████████████████▎                     | 3/4 [01:29<00:29, 29.92s/it]"
     ]
    },
    {
     "data": {
      "application/vnd.jupyter.widget-view+json": {
       "model_id": "d761a8a6a9c24b1bbc41ffea57d4df1e",
       "version_major": 2,
       "version_minor": 0
      },
      "text/plain": [
       "model-00004-of-00004.safetensors:   0%|          | 0.00/1.69G [00:00<?, ?B/s]"
      ]
     },
     "metadata": {},
     "output_type": "display_data"
    },
    {
     "name": "stderr",
     "output_type": "stream",
     "text": [
      "Unsloth: Merging weights into 16bit: 100%|███████████████████████████████████████████████████████████████████████████████████████| 4/4 [01:37<00:00, 24.40s/it]\n"
     ]
    }
   ],
   "source": [
    "# merge default 16 bits\n",
    "model.save_pretrained_merged(save_directory=\"qwen2-ocr-merged-finetune-merge-16bit\", tokenizer=tokenizer)"
   ]
  },
  {
   "cell_type": "code",
   "execution_count": 18,
   "id": "cde6bd60-59ae-4184-aafe-874c91888f04",
   "metadata": {},
   "outputs": [
    {
     "name": "stdout",
     "output_type": "stream",
     "text": [
      "Unsloth: Merging LoRA weights into 4bit model...\n"
     ]
    },
    {
     "name": "stderr",
     "output_type": "stream",
     "text": [
      "/conda/envs/unsloth_latest/lib/python3.11/site-packages/peft/tuners/lora/bnb.py:351: UserWarning: Merge lora module to 4-bit linear may get different generations due to rounding errors.\n",
      "  warnings.warn(\n"
     ]
    },
    {
     "name": "stdout",
     "output_type": "stream",
     "text": [
      "Unsloth: Merging finished.\n",
      "Unsloth: Found skipped modules: ['visual.blocks.0.attn.qkv', 'visual.blocks.0.attn.proj', 'visual.blocks.0.mlp.fc1', 'visual.blocks.0.mlp.fc2', 'visual.blocks.1.attn.qkv', 'visual.blocks.1.attn.proj', 'visual.blocks.1.mlp.fc1', 'visual.blocks.1.mlp.fc2', 'visual.blocks.2.attn.qkv', 'visual.blocks.2.attn.proj', 'visual.blocks.2.mlp.fc1', 'visual.blocks.2.mlp.fc2', 'visual.blocks.3.attn.qkv', 'visual.blocks.3.attn.proj', 'visual.blocks.3.mlp.fc1', 'visual.blocks.3.mlp.fc2', 'visual.blocks.4.attn.qkv', 'visual.blocks.4.attn.proj', 'visual.blocks.4.mlp.fc1', 'visual.blocks.4.mlp.fc2', 'visual.blocks.5.attn.qkv', 'visual.blocks.5.attn.proj', 'visual.blocks.5.mlp.fc1', 'visual.blocks.5.mlp.fc2', 'visual.blocks.6.attn.qkv', 'visual.blocks.6.attn.proj', 'visual.blocks.6.mlp.fc1', 'visual.blocks.6.mlp.fc2', 'visual.blocks.7.attn.qkv', 'visual.blocks.7.attn.proj', 'visual.blocks.7.mlp.fc1', 'visual.blocks.7.mlp.fc2', 'visual.blocks.8.attn.qkv', 'visual.blocks.8.attn.proj', 'visual.blocks.8.mlp.fc1', 'visual.blocks.8.mlp.fc2', 'visual.blocks.9.attn.qkv', 'visual.blocks.9.attn.proj', 'visual.blocks.9.mlp.fc1', 'visual.blocks.9.mlp.fc2', 'visual.blocks.10.attn.qkv', 'visual.blocks.10.attn.proj', 'visual.blocks.10.mlp.fc1', 'visual.blocks.10.mlp.fc2', 'visual.blocks.11.attn.qkv', 'visual.blocks.11.attn.proj', 'visual.blocks.11.mlp.fc1', 'visual.blocks.11.mlp.fc2', 'visual.blocks.12.attn.qkv', 'visual.blocks.12.attn.proj', 'visual.blocks.12.mlp.fc1', 'visual.blocks.12.mlp.fc2', 'visual.blocks.13.attn.qkv', 'visual.blocks.13.attn.proj', 'visual.blocks.13.mlp.fc1', 'visual.blocks.13.mlp.fc2', 'visual.blocks.14.attn.qkv', 'visual.blocks.14.attn.proj', 'visual.blocks.14.mlp.fc1', 'visual.blocks.14.mlp.fc2', 'visual.blocks.15.attn.qkv', 'visual.blocks.15.attn.proj', 'visual.blocks.15.mlp.fc1', 'visual.blocks.15.mlp.fc2', 'visual.blocks.16.attn.qkv', 'visual.blocks.16.attn.proj', 'visual.blocks.16.mlp.fc1', 'visual.blocks.16.mlp.fc2', 'visual.blocks.17.attn.qkv', 'visual.blocks.17.attn.proj', 'visual.blocks.17.mlp.fc1', 'visual.blocks.17.mlp.fc2', 'visual.blocks.18.attn.qkv', 'visual.blocks.18.attn.proj', 'visual.blocks.18.mlp.fc1', 'visual.blocks.18.mlp.fc2', 'visual.blocks.19.attn.qkv', 'visual.blocks.19.attn.proj', 'visual.blocks.20.attn.qkv', 'visual.blocks.20.attn.proj', 'visual.blocks.20.mlp.fc1', 'visual.blocks.20.mlp.fc2', 'visual.blocks.21.attn.qkv', 'visual.blocks.21.attn.proj', 'visual.blocks.21.mlp.fc1', 'visual.blocks.21.mlp.fc2', 'visual.blocks.22.mlp.fc1', 'visual.blocks.22.mlp.fc2', 'visual.blocks.23.attn.qkv', 'visual.blocks.23.attn.proj', 'visual.blocks.23.mlp.fc1', 'visual.blocks.23.mlp.fc2', 'visual.blocks.24.attn.qkv', 'visual.blocks.24.attn.proj', 'visual.blocks.24.mlp.fc1', 'visual.blocks.24.mlp.fc2', 'visual.blocks.25.attn.qkv', 'visual.blocks.25.attn.proj', 'visual.blocks.25.mlp.fc1', 'visual.blocks.25.mlp.fc2', 'visual.blocks.26.attn.qkv', 'visual.blocks.26.attn.proj', 'visual.blocks.26.mlp.fc1', 'visual.blocks.26.mlp.fc2', 'visual.blocks.27.attn.qkv', 'visual.blocks.27.attn.proj', 'visual.blocks.27.mlp.fc1', 'visual.blocks.27.mlp.fc2', 'visual.blocks.28.attn.qkv', 'visual.blocks.28.attn.proj', 'visual.blocks.28.mlp.fc1', 'visual.blocks.28.mlp.fc2', 'visual.blocks.29.attn.qkv', 'visual.blocks.29.attn.proj', 'visual.blocks.30.attn.qkv', 'visual.blocks.30.attn.proj', 'visual.blocks.30.mlp.fc1', 'visual.blocks.30.mlp.fc2', 'visual.blocks.31.attn.qkv', 'visual.blocks.31.attn.proj', 'visual.blocks.31.mlp.fc1', 'visual.blocks.31.mlp.fc2', 'visual.merger.mlp.0', 'visual.merger.mlp.2', 'lm_head']. Updating config.\n",
      "Unsloth: Saving merged 4bit model to qwen2-ocr-merged-finetune-merge-4bit...\n",
      "Unsloth: Merged 4bit model saved.\n",
      "Unsloth: Merged 4bit model process completed.\n"
     ]
    }
   ],
   "source": [
    "# merge 4 bits\n",
    "model.save_pretrained_merged(save_directory=\"qwen2-ocr-merged-finetune-merge-4bit\", tokenizer=tokenizer, save_method=\"merged_4bit_forced\")"
   ]
  },
  {
   "cell_type": "markdown",
   "id": "af5d1e1f-d0d5-4f83-a7c0-67586d29cada",
   "metadata": {},
   "source": [
    "## Benchmark merged model performance"
   ]
  },
  {
   "cell_type": "markdown",
   "id": "8e1ea8f0-b2d8-45d6-b275-b9815314bc68",
   "metadata": {},
   "source": [
    "### 16 bits merged model"
   ]
  },
  {
   "cell_type": "code",
   "execution_count": 6,
   "id": "c3dce45b-89fa-423a-a626-d957102d2f86",
   "metadata": {},
   "outputs": [
    {
     "name": "stdout",
     "output_type": "stream",
     "text": [
      "==((====))==  Unsloth 2025.5.6: Fast Qwen2 patching. Transformers: 4.51.3.\n",
      "   \\\\   /|    NVIDIA A100-SXM4-80GB. Num GPUs = 1. Max memory: 79.254 GB. Platform: Linux.\n",
      "O^O/ \\_/ \\    Torch: 2.7.0+cu126. CUDA: 8.0. CUDA Toolkit: 12.6. Triton: 3.3.0\n",
      "\\        /    Bfloat16 = TRUE. FA [Xformers = 0.0.30. FA2 = True]\n",
      " \"-____-\"     Free license: http://github.com/unslothai/unsloth\n",
      "Unsloth: Fast downloading is enabled - ignore downloading bars which are red colored!\n"
     ]
    },
    {
     "data": {
      "application/vnd.jupyter.widget-view+json": {
       "model_id": "41f6c8f2c9664c04bb586b805562fe6f",
       "version_major": 2,
       "version_minor": 0
      },
      "text/plain": [
       "Loading checkpoint shards:   0%|          | 0/4 [00:00<?, ?it/s]"
      ]
     },
     "metadata": {},
     "output_type": "display_data"
    },
    {
     "name": "stderr",
     "output_type": "stream",
     "text": [
      "Using a slow image processor as `use_fast` is unset and a slow processor was saved with this model. `use_fast=True` will be the default behavior in v4.52, even if the model was saved with a slow processor. This will result in minor differences in outputs. You'll still be able to use a slow processor with `use_fast=False`.\n"
     ]
    }
   ],
   "source": [
    "# load 16bits-merged model in 4 bits\n",
    "model, tokenizer = FastVisionModel.from_pretrained(\"./qwen2-ocr-merged-finetune-merge-16bit\",load_in_4bit=True, load_in_8bit=False)"
   ]
  },
  {
   "cell_type": "code",
   "execution_count": 7,
   "id": "dcf9ef6a-90bd-4441-a600-39dd44445aa6",
   "metadata": {},
   "outputs": [
    {
     "name": "stderr",
     "output_type": "stream",
     "text": [
      "Evaluating OCR performance: 100%|████████████████████████████████████████████████████████████████████████████████████████████████████████████████████████████| 200/200 [18:09<00:00,  5.45s/it]"
     ]
    },
    {
     "name": "stdout",
     "output_type": "stream",
     "text": [
      "\n",
      "Results Summary:\n",
      "Average WER: 3.5484\n",
      "Average CER: 3.6879\n",
      "\n",
      "Detailed results saved to unsloth_16bits_merged_model_load_4bits_results/\n"
     ]
    },
    {
     "name": "stderr",
     "output_type": "stream",
     "text": [
      "\n"
     ]
    }
   ],
   "source": [
    "# benchmark 4bit loaded, 16bits merged model performance\n",
    "model_name = \"Unsloth 16bits-merged model load-4bits\" \n",
    "model.config.use_cache = True\n",
    "\n",
    "avg_wer, avg_cer = evaluate_ocr_model(model, tokenizer, eval_dataset, output_dir=\"unsloth_16bits_merged_model_load_4bits_results\")\n",
    "add_to_comparison(model_name, avg_wer, avg_cer)"
   ]
  },
  {
   "cell_type": "code",
   "execution_count": 8,
   "id": "56089faa-e159-485b-b825-39c0e38fc5ba",
   "metadata": {},
   "outputs": [
    {
     "name": "stdout",
     "output_type": "stream",
     "text": [
      "==((====))==  Unsloth 2025.5.6: Fast Qwen2 patching. Transformers: 4.51.3.\n",
      "   \\\\   /|    NVIDIA A100-SXM4-80GB. Num GPUs = 1. Max memory: 79.254 GB. Platform: Linux.\n",
      "O^O/ \\_/ \\    Torch: 2.7.0+cu126. CUDA: 8.0. CUDA Toolkit: 12.6. Triton: 3.3.0\n",
      "\\        /    Bfloat16 = TRUE. FA [Xformers = 0.0.30. FA2 = True]\n",
      " \"-____-\"     Free license: http://github.com/unslothai/unsloth\n",
      "Unsloth: Fast downloading is enabled - ignore downloading bars which are red colored!\n"
     ]
    },
    {
     "data": {
      "application/vnd.jupyter.widget-view+json": {
       "model_id": "d8f871b645934b359139d8f73f4075b8",
       "version_major": 2,
       "version_minor": 0
      },
      "text/plain": [
       "Loading checkpoint shards:   0%|          | 0/4 [00:00<?, ?it/s]"
      ]
     },
     "metadata": {},
     "output_type": "display_data"
    }
   ],
   "source": [
    "# load model in 8 bits\n",
    "model, tokenizer = FastVisionModel.from_pretrained(\"./qwen2-ocr-merged-finetune-merge-16bit\",load_in_4bit=False, load_in_8bit=True)"
   ]
  },
  {
   "cell_type": "code",
   "execution_count": 9,
   "id": "e15c1397-7c3c-4583-922b-562a74fa2405",
   "metadata": {},
   "outputs": [
    {
     "name": "stderr",
     "output_type": "stream",
     "text": [
      "Evaluating OCR performance: 100%|████████████████████████████████████████████████████████████████████████████████████████████████████████████████████████████| 200/200 [01:48<00:00,  1.84it/s]"
     ]
    },
    {
     "name": "stdout",
     "output_type": "stream",
     "text": [
      "\n",
      "Results Summary:\n",
      "Average WER: 0.0050\n",
      "Average CER: 0.0009\n",
      "\n",
      "Detailed results saved to unsloth_16bits_merged_model_load_8bits_results/\n"
     ]
    },
    {
     "name": "stderr",
     "output_type": "stream",
     "text": [
      "\n"
     ]
    }
   ],
   "source": [
    "# benchmark 4bit loaded, 16bits merged model performance\n",
    "model_name = \"Unsloth 16bits-merged model load-8bits\" \n",
    "avg_wer, avg_cer = evaluate_ocr_model(model, tokenizer, eval_dataset, output_dir=\"unsloth_16bits_merged_model_load_8bits_results\")\n",
    "add_to_comparison(model_name, avg_wer, avg_cer)"
   ]
  },
  {
   "cell_type": "markdown",
   "id": "3216e6eb-12ff-44a4-9c06-d00d9d67a346",
   "metadata": {},
   "source": [
    "### 4 bits merged model"
   ]
  },
  {
   "cell_type": "code",
   "execution_count": 10,
   "id": "b6c34c03-ceb2-4569-8879-1fb8d13dc66f",
   "metadata": {},
   "outputs": [
    {
     "name": "stdout",
     "output_type": "stream",
     "text": [
      "==((====))==  Unsloth 2025.5.6: Fast Qwen2 patching. Transformers: 4.51.3.\n",
      "   \\\\   /|    NVIDIA A100-SXM4-80GB. Num GPUs = 1. Max memory: 79.254 GB. Platform: Linux.\n",
      "O^O/ \\_/ \\    Torch: 2.7.0+cu126. CUDA: 8.0. CUDA Toolkit: 12.6. Triton: 3.3.0\n",
      "\\        /    Bfloat16 = TRUE. FA [Xformers = 0.0.30. FA2 = True]\n",
      " \"-____-\"     Free license: http://github.com/unslothai/unsloth\n",
      "Unsloth: Fast downloading is enabled - ignore downloading bars which are red colored!\n"
     ]
    },
    {
     "data": {
      "application/vnd.jupyter.widget-view+json": {
       "model_id": "18fdba92a64e43509229050f2d96436b",
       "version_major": 2,
       "version_minor": 0
      },
      "text/plain": [
       "Loading checkpoint shards:   0%|          | 0/2 [00:00<?, ?it/s]"
      ]
     },
     "metadata": {},
     "output_type": "display_data"
    }
   ],
   "source": [
    "# load 4bits-merged model in 4 bits\n",
    "model, tokenizer = FastVisionModel.from_pretrained(\"./qwen2-ocr-merged-finetune-merge-4bit\",load_in_4bit=True, load_in_8bit=False)"
   ]
  },
  {
   "cell_type": "code",
   "execution_count": 11,
   "id": "8b0ecfb7-7d0a-4cfc-a710-b51de7e5ffc9",
   "metadata": {},
   "outputs": [
    {
     "name": "stderr",
     "output_type": "stream",
     "text": [
      "Evaluating OCR performance: 100%|████████████████████████████████████████████████████████████████████████████████████████████████████████████████████████████| 200/200 [03:16<00:00,  1.02it/s]"
     ]
    },
    {
     "name": "stdout",
     "output_type": "stream",
     "text": [
      "\n",
      "Results Summary:\n",
      "Average WER: 0.1499\n",
      "Average CER: 0.0745\n",
      "\n",
      "Detailed results saved to unsloth_4bits_merged_model_load_4bits_results/\n"
     ]
    },
    {
     "name": "stderr",
     "output_type": "stream",
     "text": [
      "\n"
     ]
    }
   ],
   "source": [
    "# benchmark 4bit loaded, 4bits merged model performance\n",
    "model_name = \"Unsloth 4bits-merged model load-4bits\" \n",
    "\n",
    "avg_wer, avg_cer = evaluate_ocr_model(model, tokenizer, eval_dataset, output_dir=\"unsloth_4bits_merged_model_load_4bits_results\")\n",
    "add_to_comparison(model_name, avg_wer, avg_cer)"
   ]
  },
  {
   "cell_type": "code",
   "execution_count": 12,
   "id": "39dde9ba-01f5-4ce4-9614-970fe12d0d9b",
   "metadata": {},
   "outputs": [
    {
     "name": "stdout",
     "output_type": "stream",
     "text": [
      "==((====))==  Unsloth 2025.5.6: Fast Qwen2 patching. Transformers: 4.51.3.\n",
      "   \\\\   /|    NVIDIA A100-SXM4-80GB. Num GPUs = 1. Max memory: 79.254 GB. Platform: Linux.\n",
      "O^O/ \\_/ \\    Torch: 2.7.0+cu126. CUDA: 8.0. CUDA Toolkit: 12.6. Triton: 3.3.0\n",
      "\\        /    Bfloat16 = TRUE. FA [Xformers = 0.0.30. FA2 = True]\n",
      " \"-____-\"     Free license: http://github.com/unslothai/unsloth\n",
      "Unsloth: Fast downloading is enabled - ignore downloading bars which are red colored!\n"
     ]
    },
    {
     "data": {
      "application/vnd.jupyter.widget-view+json": {
       "model_id": "4e7acfabe92c4cc49a86969df68b4b02",
       "version_major": 2,
       "version_minor": 0
      },
      "text/plain": [
       "Loading checkpoint shards:   0%|          | 0/2 [00:00<?, ?it/s]"
      ]
     },
     "metadata": {},
     "output_type": "display_data"
    }
   ],
   "source": [
    "# load model in 8 bits\n",
    "model, tokenizer = FastVisionModel.from_pretrained(\"./qwen2-ocr-merged-finetune-merge-4bit\",load_in_4bit=False, load_in_8bit=True)"
   ]
  },
  {
   "cell_type": "code",
   "execution_count": 13,
   "id": "223b2cf0-6dc9-485e-8848-d3a075b591fe",
   "metadata": {},
   "outputs": [
    {
     "name": "stderr",
     "output_type": "stream",
     "text": [
      "Evaluating OCR performance: 100%|████████████████████████████████████████████████████████████████████████████████████████████████████████████████████████████| 200/200 [03:16<00:00,  1.02it/s]"
     ]
    },
    {
     "name": "stdout",
     "output_type": "stream",
     "text": [
      "\n",
      "Results Summary:\n",
      "Average WER: 0.1499\n",
      "Average CER: 0.0745\n",
      "\n",
      "Detailed results saved to unsloth_4bits_merged_model_load_8bits_results/\n"
     ]
    },
    {
     "name": "stderr",
     "output_type": "stream",
     "text": [
      "\n"
     ]
    }
   ],
   "source": [
    "# benchmark 8bit loaded, 4bits merged model performance\n",
    "model_name = \"Unsloth 4bits-merged model load-8bits\" \n",
    "\n",
    "avg_wer, avg_cer = evaluate_ocr_model(model, tokenizer, eval_dataset, output_dir=\"unsloth_4bits_merged_model_load_8bits_results\")\n",
    "add_to_comparison(model_name, avg_wer, avg_cer)"
   ]
  },
  {
   "cell_type": "markdown",
   "id": "892ecfc3-c004-4109-9807-798628e7c95c",
   "metadata": {},
   "source": [
    "# Model comparison report"
   ]
  },
  {
   "cell_type": "code",
   "execution_count": 15,
   "id": "3252b42b-406f-4e7e-bacb-6ef7176188cc",
   "metadata": {},
   "outputs": [
    {
     "name": "stdout",
     "output_type": "stream",
     "text": [
      "\n",
      "==== MODEL COMPARISON REPORT ====\n",
      "\n",
      "Comparison Table (sorted by WER):\n",
      "                                 Model      WER      CER\n",
      "Unsloth 16bits-merged model load-8bits 0.005011 0.000896\n",
      "            Unsloth lora adapter model 0.005900 0.001000\n",
      " Unsloth 4bits-merged model load-8bits 0.149930 0.074493\n",
      " Unsloth 4bits-merged model load-4bits 0.149930 0.074493\n",
      "                    Unsloth Base model 0.170700 0.089900\n",
      "Unsloth 16bits-merged model load-4bits 3.548406 3.687869\n",
      "\n",
      "Comparison table saved to model_comparison_results.csv\n"
     ]
    },
    {
     "data": {
      "image/png": "[encoded data removed]",
      "text/plain": [
       "<Figure size 1200x600 with 2 Axes>"
      ]
     },
     "metadata": {},
     "output_type": "display_data"
    },
    {
     "name": "stdout",
     "output_type": "stream",
     "text": [
      "\n",
      "Visualization saved to ocr_model_comparison.png\n"
     ]
    },
    {
     "data": {
      "text/html": [
       "<div>\n",
       "<style scoped>\n",
       "    .dataframe tbody tr th:only-of-type {\n",
       "        vertical-align: middle;\n",
       "    }\n",
       "\n",
       "    .dataframe tbody tr th {\n",
       "        vertical-align: top;\n",
       "    }\n",
       "\n",
       "    .dataframe thead th {\n",
       "        text-align: right;\n",
       "    }\n",
       "</style>\n",
       "<table border=\"1\" class=\"dataframe\">\n",
       "  <thead>\n",
       "    <tr style=\"text-align: right;\">\n",
       "      <th></th>\n",
       "      <th>Model</th>\n",
       "      <th>WER</th>\n",
       "      <th>CER</th>\n",
       "    </tr>\n",
       "  </thead>\n",
       "  <tbody>\n",
       "    <tr>\n",
       "      <th>1</th>\n",
       "      <td>Unsloth 16bits-merged model load-8bits</td>\n",
       "      <td>0.005011</td>\n",
       "      <td>0.000896</td>\n",
       "    </tr>\n",
       "    <tr>\n",
       "      <th>5</th>\n",
       "      <td>Unsloth lora adapter model</td>\n",
       "      <td>0.005900</td>\n",
       "      <td>0.001000</td>\n",
       "    </tr>\n",
       "    <tr>\n",
       "      <th>3</th>\n",
       "      <td>Unsloth 4bits-merged model load-8bits</td>\n",
       "      <td>0.149930</td>\n",
       "      <td>0.074493</td>\n",
       "    </tr>\n",
       "    <tr>\n",
       "      <th>2</th>\n",
       "      <td>Unsloth 4bits-merged model load-4bits</td>\n",
       "      <td>0.149930</td>\n",
       "      <td>0.074493</td>\n",
       "    </tr>\n",
       "    <tr>\n",
       "      <th>4</th>\n",
       "      <td>Unsloth Base model</td>\n",
       "      <td>0.170700</td>\n",
       "      <td>0.089900</td>\n",
       "    </tr>\n",
       "    <tr>\n",
       "      <th>0</th>\n",
       "      <td>Unsloth 16bits-merged model load-4bits</td>\n",
       "      <td>3.548406</td>\n",
       "      <td>3.687869</td>\n",
       "    </tr>\n",
       "  </tbody>\n",
       "</table>\n",
       "</div>"
      ],
      "text/plain": [
       "                                    Model       WER       CER\n",
       "1  Unsloth 16bits-merged model load-8bits  0.005011  0.000896\n",
       "5              Unsloth lora adapter model  0.005900  0.001000\n",
       "3   Unsloth 4bits-merged model load-8bits  0.149930  0.074493\n",
       "2   Unsloth 4bits-merged model load-4bits  0.149930  0.074493\n",
       "4                      Unsloth Base model  0.170700  0.089900\n",
       "0  Unsloth 16bits-merged model load-4bits  3.548406  3.687869"
      ]
     },
     "execution_count": 15,
     "metadata": {},
     "output_type": "execute_result"
    }
   ],
   "source": [
    "import matplotlib\n",
    "#print model comparison\n",
    "print_model_comparison()"
   ]
  },
  {
   "attachments": {},
   "cell_type": "markdown",
   "id": "e23d37a3-3bb8-45f2-8a5a-4b41c5f12540",
   "metadata": {},
   "source": [
    "<!-- # Load adapter model and measure adapter performance\n",
    "\n",
    "# # Load model and tokenizer\n",
    "# model = AutoModelForVision2Seq.from_pretrained(\n",
    "#     \"./merged_model_french_ocr_qwen7-vl\",\n",
    "#     device_map=\"auto\",\n",
    "#     # attn_implementation=\"flash_attention_2\", # not supported for training\n",
    "#     torch_dtype=torch.bfloat16,\n",
    "#     #quantization_config=bnb_config\n",
    "# )\n",
    "\n",
    "model, tokenizer = FastVisionModel.from_pretrained(\"./merged_model_french_ocr_qwen7-vl\",load_in_8bit=True, load_in_4bit=False)\n",
    "FastVisionModel.for_inference(model) -->"
   ]
  }
 ],
 "metadata": {
  "kernelspec": {
   "display_name": "Python 3 (ipykernel)",
   "language": "python",
   "name": "python3"
  },
  "language_info": {
   "codemirror_mode": {
    "name": "ipython",
    "version": 3
   },
   "file_extension": ".py",
   "mimetype": "text/x-python",
   "name": "python",
   "nbconvert_exporter": "python",
   "pygments_lexer": "ipython3",
   "version": "3.11.0"
  }
 },
 "nbformat": 4,
 "nbformat_minor": 5
}
