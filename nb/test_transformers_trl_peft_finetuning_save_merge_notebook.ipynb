{
 "cells": [
  {
   "cell_type": "markdown",
   "id": "b9927875-939b-42e0-ab75-a0d2e873e917",
   "metadata": {},
   "source": [
    "# OCR lora finetuning and merging using Transformers + Peft + TRL"
   ]
  },
  {
   "cell_type": "markdown",
   "id": "70441539-db2e-411d-9583-85ba8e1591eb",
   "metadata": {},
   "source": [
    "## import libs"
   ]
  },
  {
   "cell_type": "code",
   "execution_count": 1,
   "id": "a98dfb7b-5438-4389-9635-b9a31df3dff5",
   "metadata": {},
   "outputs": [],
   "source": [
    "import torch\n",
    "from transformers import AutoModelForVision2Seq, AutoProcessor, BitsAndBytesConfig,Qwen2VLProcessor\n",
    "from peft import LoraConfig\n",
    "from qwen_vl_utils import process_vision_info\n",
    "import torch\n",
    "from torch.utils.data import Dataset\n",
    "import os\n",
    "from PIL import Image\n",
    "import glob\n",
    "from datasets import load_dataset\n",
    "from trl import SFTTrainer, SFTConfig\n",
    "import random"
   ]
  },
  {
   "cell_type": "markdown",
   "id": "eb7404ed-08ce-4950-8610-5c355953e211",
   "metadata": {},
   "source": [
    "# Dataset Preparation"
   ]
  },
  {
   "cell_type": "code",
   "execution_count": 2,
   "id": "237c4e5c-c876-4b21-bba4-6e99e9d5e5da",
   "metadata": {},
   "outputs": [
    {
     "data": {
      "application/vnd.jupyter.widget-view+json": {
       "model_id": "24da7f84877e4007a3194a420f1eab7d",
       "version_major": 2,
       "version_minor": 0
      },
      "text/plain": [
       "Resolving data files:   0%|          | 0/50 [00:00<?, ?it/s]"
      ]
     },
     "metadata": {},
     "output_type": "display_data"
    },
    {
     "data": {
      "application/vnd.jupyter.widget-view+json": {
       "model_id": "7cb83a0092df4b1aa59117a2748b9900",
       "version_major": 2,
       "version_minor": 0
      },
      "text/plain": [
       "Resolving data files:   0%|          | 0/50 [00:00<?, ?it/s]"
      ]
     },
     "metadata": {},
     "output_type": "display_data"
    },
    {
     "data": {
      "application/vnd.jupyter.widget-view+json": {
       "model_id": "9356a50d878343539b2f132645505616",
       "version_major": 2,
       "version_minor": 0
      },
      "text/plain": [
       "Loading dataset shards:   0%|          | 0/50 [00:00<?, ?it/s]"
      ]
     },
     "metadata": {},
     "output_type": "display_data"
    }
   ],
   "source": [
    "from datasets import load_dataset\n",
    "\n",
    "dataset = load_dataset(\"lbourdois/OCR-liboaccn-OPUS-MIT-5M-clean\", 'en', split=\"train\")\n",
    "# To select the first 2000 examples\n",
    "train_dataset = dataset.select(range(2000))\n",
    "\n",
    "# To select the next 200 examples for evaluation\n",
    "eval_dataset = dataset.select(range(2000, 2200))\n",
    "\n",
    "# Convert dataset to OAI messages       \n",
    "def format_data(sample):\n",
    "    return {\"messages\": [\n",
    "                {\n",
    "                    \"role\": \"system\",\n",
    "                    \"content\": [{\"type\": \"text\", \"text\": system_message}],\n",
    "                },\n",
    "                {\n",
    "                    \"role\": \"user\",\n",
    "                    \"content\": [\n",
    "                        {\n",
    "                            \"type\": \"text\",\n",
    "                            \"text\": sample[\"question\"],\n",
    "                        },{\n",
    "                            \"type\": \"image\",\n",
    "                            \"image\": sample[\"image\"],\n",
    "                        }\n",
    "                    ],\n",
    "                },\n",
    "                {\n",
    "                    \"role\": \"assistant\",\n",
    "                    \"content\": [{\"type\": \"text\", \"text\": sample[\"answer\"]}],\n",
    "                },\n",
    "            ],\n",
    "        }\n",
    "\n",
    "system_message = \"You are an expert french ocr system.\"\n",
    "# Convert dataset to OAI messages\n",
    "# need to use list comprehension to keep Pil.Image type, .mape convert image to bytes\n",
    "train_dataset = [format_data(sample) for sample in train_dataset]\n",
    "eval_dataset = [format_data(sample) for sample in eval_dataset]"
   ]
  },
  {
   "cell_type": "markdown",
   "id": "3f531014-b0e8-40f5-b093-0e159c02cb0c",
   "metadata": {},
   "source": [
    "# Setup OCR main evaluation and help functions"
   ]
  },
  {
   "cell_type": "code",
   "execution_count": 3,
   "id": "d071bcd9-5fe5-450e-908e-57c7011a0602",
   "metadata": {},
   "outputs": [],
   "source": [
    "import os\n",
    "import torch\n",
    "from tqdm import tqdm\n",
    "import pandas as pd\n",
    "from jiwer import wer, cer\n",
    "from qwen_vl_utils import process_vision_info\n",
    "\n",
    "def evaluate_ocr_model(model, processor, dataset, output_dir=\"ocr_evaluation_results\"):\n",
    "    \"\"\"\n",
    "    Evaluate a Qwen VL model on an OCR dataset with specific structure.\n",
    "    \n",
    "    Args:\n",
    "        model: The loaded Qwen VL model\n",
    "        processor: The Qwen processor/tokenizer\n",
    "        dataset: List of items with 'messages' field containing conversation exchanges\n",
    "        output_dir: Directory to save results\n",
    "    \n",
    "    Returns:\n",
    "        tuple: (average WER, average CER)\n",
    "    \"\"\"\n",
    "    # Create output directory if it doesn't exist\n",
    "    os.makedirs(output_dir, exist_ok=True)\n",
    "    \n",
    "    # Initialize results storage\n",
    "    results = []\n",
    "    \n",
    "    # Process each sample in the dataset\n",
    "    for i, sample in enumerate(tqdm(dataset, desc=\"Evaluating OCR performance\")):\n",
    "        try:\n",
    "            # Extract the messages from the sample\n",
    "            messages = sample['messages']\n",
    "            \n",
    "            # Extract system message (if present)\n",
    "            system_message = next((msg for msg in messages if msg['role'] == 'system'), None)\n",
    "            \n",
    "            # Extract user message with the image and question\n",
    "            user_message = next((msg for msg in messages if msg['role'] == 'user'), None)\n",
    "            if not user_message:\n",
    "                print(f\"Skipping sample {i}: No user message found\")\n",
    "                continue\n",
    "                \n",
    "            # Extract assistant message with ground truth\n",
    "            assistant_message = next((msg for msg in messages if msg['role'] == 'assistant'), None)\n",
    "            if not assistant_message:\n",
    "                print(f\"Skipping sample {i}: No assistant message (ground truth) found\")\n",
    "                continue\n",
    "            \n",
    "            # Extract ground truth text\n",
    "            ground_truth = None\n",
    "            for content_item in assistant_message['content']:\n",
    "                if content_item['type'] == 'text':\n",
    "                    ground_truth = content_item['text']\n",
    "                    break\n",
    "                    \n",
    "            if not ground_truth:\n",
    "                print(f\"Skipping sample {i}: No text found in assistant message\")\n",
    "                continue\n",
    "            \n",
    "            # Extract image and question from user message\n",
    "            image = None\n",
    "            question = None\n",
    "            \n",
    "            for content_item in user_message['content']:\n",
    "                if content_item['type'] == 'image':\n",
    "                    image = content_item['image']\n",
    "                elif content_item['type'] == 'text':\n",
    "                    question = content_item['text']\n",
    "            \n",
    "            if not image:\n",
    "                print(f\"Skipping sample {i}: No image found in user message\")\n",
    "                continue\n",
    "                \n",
    "            if not question:\n",
    "                print(f\"Skipping sample {i}: No question found in user message\")\n",
    "                continue\n",
    "            \n",
    "            # Construct messages for the model input (excluding assistant message)\n",
    "            input_messages = []\n",
    "            \n",
    "            # Add system message if it exists\n",
    "            if system_message:\n",
    "                input_messages.append(system_message)\n",
    "            \n",
    "            # Add user message\n",
    "            input_messages.append(user_message)\n",
    "            \n",
    "            # Preparation for inference using Qwen's specific processing\n",
    "            text = processor.apply_chat_template(\n",
    "                input_messages, tokenize=False, add_generation_prompt=True\n",
    "            )\n",
    "            \n",
    "            # Process vision info (images/videos) from messages\n",
    "            image_inputs, video_inputs = process_vision_info(input_messages)\n",
    "            \n",
    "            # Create model inputs\n",
    "            inputs = processor(\n",
    "                text=[text],\n",
    "                images=image_inputs,\n",
    "                videos=video_inputs,\n",
    "                padding=True,\n",
    "                return_tensors=\"pt\"\n",
    "            )\n",
    "            inputs = inputs.to(model.device)\n",
    "            \n",
    "            # Generate response\n",
    "            with torch.no_grad():\n",
    "                generated_ids = model.generate(\n",
    "                    **inputs, \n",
    "                    max_new_tokens=1024,\n",
    "                    temperature=1.5, \n",
    "                    min_p=0.1,\n",
    "                    use_cache=True\n",
    "                )\n",
    "            \n",
    "            # Extract only the generated part (not the input)\n",
    "            generated_ids_trimmed = [\n",
    "                out_ids[len(in_ids):] for in_ids, out_ids in zip(inputs.input_ids, generated_ids)\n",
    "            ]\n",
    "            \n",
    "            # Decode the generated text\n",
    "            generated_response = processor.batch_decode(\n",
    "                generated_ids_trimmed, \n",
    "                skip_special_tokens=True, \n",
    "                clean_up_tokenization_spaces=False\n",
    "            )[0]\n",
    "            \n",
    "            # Calculate metrics\n",
    "            word_error = wer(ground_truth, generated_response)\n",
    "            char_error = cer(ground_truth, generated_response)\n",
    "            \n",
    "            # Save individual result\n",
    "            output_file = os.path.join(output_dir, f\"sample_{i}.txt\")\n",
    "            with open(output_file, 'w', encoding='utf-8') as f:\n",
    "                f.write(f\"Sample {i}\\n\")\n",
    "                f.write(f\"Question: {question}\\n\\n\")\n",
    "                f.write(f\"Model output:\\n{generated_response.strip()}\\n\\n\")\n",
    "                f.write(f\"Ground truth:\\n{ground_truth}\\n\\n\")\n",
    "                f.write(f\"WER: {word_error:.4f}, CER: {char_error:.4f}\")\n",
    "            \n",
    "            # Store results for summary\n",
    "            results.append({\n",
    "                'sample_id': i,\n",
    "                'wer': word_error,\n",
    "                'cer': char_error,\n",
    "                'model_output': generated_response.strip(),\n",
    "                'ground_truth': ground_truth,\n",
    "                'question': question\n",
    "            })\n",
    "            \n",
    "        except Exception as e:\n",
    "            print(f\"Error processing sample {i}: {str(e)}\")\n",
    "            import traceback\n",
    "            traceback.print_exc()\n",
    "            \n",
    "    # Create summary report\n",
    "    if results:\n",
    "        df = pd.DataFrame(results)\n",
    "        \n",
    "        # Calculate overall averages\n",
    "        avg_wer = df['wer'].mean()\n",
    "        avg_cer = df['cer'].mean()\n",
    "        \n",
    "        # Save average metrics\n",
    "        with open(os.path.join(output_dir, \"avg_metrics.txt\"), 'w') as f:\n",
    "            f.write(f\"Average WER: {avg_wer:.4f}\\n\")\n",
    "            f.write(f\"Average CER: {avg_cer:.4f}\\n\")\n",
    "        \n",
    "        # Save detailed results\n",
    "        df.to_csv(os.path.join(output_dir, \"detailed_results.csv\"), index=False)\n",
    "        \n",
    "        print(\"\\nResults Summary:\")\n",
    "        print(f\"Average WER: {avg_wer:.4f}\")\n",
    "        print(f\"Average CER: {avg_cer:.4f}\")\n",
    "        print(f\"\\nDetailed results saved to {output_dir}/\")\n",
    "        \n",
    "        return avg_wer, avg_cer\n",
    "    else:\n",
    "        print(\"No results to summarize.\")\n",
    "        return None, None\n",
    "\n",
    "\n",
    "# At the beginning of your notebook, define a variable to collect results\n",
    "model_comparison_results = {}\n",
    "\n",
    "# Create a simple function to add results to the comparison\n",
    "def add_to_comparison(model_name, wer, cer):\n",
    "    \"\"\"Add model results to the comparison tracker\"\"\"\n",
    "    model_comparison_results[model_name] = {\n",
    "        \"wer\": wer,\n",
    "        \"cer\": cer\n",
    "    }\n",
    "    #return model_comparison_results\n",
    "\n",
    "# Create a function to print the comparison report whenever needed\n",
    "def print_model_comparison(save_csv=True, save_plot=True):\n",
    "    \"\"\"Print a comparison of all models evaluated so far\"\"\"\n",
    "    if not model_comparison_results:\n",
    "        print(\"No model results available for comparison\")\n",
    "        return\n",
    "        \n",
    "    print(\"\\n==== MODEL COMPARISON REPORT ====\")\n",
    "    \n",
    "    # Create a comparison dataframe\n",
    "    comparison_df = pd.DataFrame({\n",
    "        \"Model\": list(model_comparison_results.keys()),\n",
    "        \"WER\": [results[\"wer\"] for results in model_comparison_results.values()],\n",
    "        \"CER\": [results[\"cer\"] for results in model_comparison_results.values()]\n",
    "    })\n",
    "    \n",
    "    # Sort by WER (best performance first)\n",
    "    comparison_df = comparison_df.sort_values(\"WER\")\n",
    "    \n",
    "    # Display the comparison table\n",
    "    print(\"\\nComparison Table (sorted by WER):\")\n",
    "    print(comparison_df.to_string(index=False))\n",
    "    \n",
    "    # Save the comparison table\n",
    "    if save_csv:\n",
    "        comparison_file = \"model_comparison_results.csv\"\n",
    "        comparison_df.to_csv(comparison_file, index=False)\n",
    "        print(f\"\\nComparison table saved to {comparison_file}\")\n",
    "    \n",
    "    # Generate a bar chart visualization\n",
    "    if save_plot:\n",
    "        import matplotlib.pyplot as plt\n",
    "        plt.figure(figsize=(12, 6))\n",
    "        \n",
    "        # Plot WER\n",
    "        plt.subplot(1, 2, 1)\n",
    "        plt.bar(comparison_df[\"Model\"], comparison_df[\"WER\"], color='skyblue')\n",
    "        plt.title('Word Error Rate Comparison')\n",
    "        plt.ylabel('WER (lower is better)')\n",
    "        plt.ylim(bottom=0)\n",
    "        plt.xticks(rotation=45, ha='right')\n",
    "        \n",
    "        # Plot CER\n",
    "        plt.subplot(1, 2, 2)\n",
    "        plt.bar(comparison_df[\"Model\"], comparison_df[\"CER\"], color='lightgreen')\n",
    "        plt.title('Character Error Rate Comparison')\n",
    "        plt.ylabel('CER (lower is better)')\n",
    "        plt.ylim(bottom=0)\n",
    "        plt.xticks(rotation=45, ha='right')\n",
    "        \n",
    "        plt.tight_layout()\n",
    "        plt.savefig('ocr_model_comparison.png')\n",
    "        plt.show()\n",
    "        \n",
    "        print(f\"\\nVisualization saved to ocr_model_comparison.png\")\n",
    "    \n",
    "    return comparison_df"
   ]
  },
  {
   "cell_type": "markdown",
   "id": "0fee2633-5d45-4e2b-a737-94578eeae5f4",
   "metadata": {},
   "source": [
    "# Finetuning setup and run"
   ]
  },
  {
   "cell_type": "markdown",
   "id": "7c1ab7f6-c324-41d5-b6eb-1c81135a42e8",
   "metadata": {},
   "source": [
    "## Load base model"
   ]
  },
  {
   "cell_type": "code",
   "execution_count": 4,
   "id": "a7c25437-5321-4a7d-84b9-0bd14806e844",
   "metadata": {},
   "outputs": [
    {
     "data": {
      "application/vnd.jupyter.widget-view+json": {
       "model_id": "8922b934b4684fceaa20f8697b58cc64",
       "version_major": 2,
       "version_minor": 0
      },
      "text/plain": [
       "Loading checkpoint shards:   0%|          | 0/4 [00:00<?, ?it/s]"
      ]
     },
     "metadata": {},
     "output_type": "display_data"
    },
    {
     "name": "stderr",
     "output_type": "stream",
     "text": [
      "Using a slow image processor as `use_fast` is unset and a slow processor was saved with this model. `use_fast=True` will be the default behavior in v4.52, even if the model was saved with a slow processor. This will result in minor differences in outputs. You'll still be able to use a slow processor with `use_fast=False`.\n"
     ]
    }
   ],
   "source": [
    "# Hugging Face model id\n",
    "model_id = \"unsloth/Qwen2-VL-7B-Instruct\" \n",
    "\n",
    "# BitsAndBytesConfig int-4 config\n",
    "bnb_config = BitsAndBytesConfig(\n",
    "    load_in_4bit=True, bnb_4bit_use_double_quant=True, bnb_4bit_quant_type=\"nf4\", bnb_4bit_compute_dtype=torch.bfloat16\n",
    ")\n",
    "\n",
    "# Load model and tokenizer\n",
    "model = AutoModelForVision2Seq.from_pretrained(\n",
    "    model_id,\n",
    "    device_map=\"auto\",\n",
    "    # attn_implementation=\"flash_attention_2\", # not supported for training\n",
    "    torch_dtype=torch.bfloat16,\n",
    "    quantization_config=bnb_config\n",
    ")\n",
    "processor = AutoProcessor.from_pretrained(model_id)"
   ]
  },
  {
   "cell_type": "code",
   "execution_count": 5,
   "id": "4024857e-4490-46d8-b916-0d3dff9ba519",
   "metadata": {},
   "outputs": [
    {
     "name": "stderr",
     "output_type": "stream",
     "text": [
      "Evaluating OCR performance: 100%|████████████████████████████████████████████████████████████████████████████████████████████████████████████████████████████| 200/200 [10:06<00:00,  3.03s/it]"
     ]
    },
    {
     "name": "stdout",
     "output_type": "stream",
     "text": [
      "\n",
      "Results Summary:\n",
      "Average WER: 3.6077\n",
      "Average CER: 2.7190\n",
      "\n",
      "Detailed results saved to peft_base_model_results/\n"
     ]
    },
    {
     "name": "stderr",
     "output_type": "stream",
     "text": [
      "\n"
     ]
    }
   ],
   "source": [
    "# benchmark base model performance\n",
    "model_name = \"Base model\" \n",
    "avg_wer, avg_cer = evaluate_ocr_model(model, processor, eval_dataset, output_dir=\"peft_base_model_results\")\n",
    "add_to_comparison(model_name, avg_wer, avg_cer)"
   ]
  },
  {
   "cell_type": "markdown",
   "id": "98b6b6c5-7db1-4363-b5b3-6223831d70ed",
   "metadata": {},
   "source": [
    "## Lora Finetuning"
   ]
  },
  {
   "cell_type": "code",
   "execution_count": 6,
   "id": "b6a7095d-b42a-43e8-96bb-9ef8461455de",
   "metadata": {},
   "outputs": [],
   "source": [
    "from peft import LoraConfig\n",
    "\n",
    "# LoRA config based on QLoRA paper & Sebastian Raschka experiment\n",
    "peft_config = LoraConfig(\n",
    "        lora_alpha=16,\n",
    "        lora_dropout=0.05,\n",
    "        r=8,\n",
    "        bias=\"none\",\n",
    "        target_modules=[\"q_proj\", \"v_proj\"],\n",
    "        task_type=\"CAUSAL_LM\", \n",
    ")"
   ]
  },
  {
   "cell_type": "code",
   "execution_count": 7,
   "id": "293e1b35-886f-4094-8e56-a6dc04608050",
   "metadata": {},
   "outputs": [],
   "source": [
    "from trl import SFTConfig\n",
    "from transformers import Qwen2VLProcessor\n",
    "from qwen_vl_utils import process_vision_info\n",
    "\n",
    "args = SFTConfig(\n",
    "    output_dir=\"peft-qwen2-7vl-french-ocr-checkpoints\", # directory to save and repository id\n",
    "    num_train_epochs=2,                     # number of training epochs\n",
    "    #max_steps = 60,\n",
    "    per_device_train_batch_size=4,          # batch size per device during training\n",
    "    gradient_accumulation_steps=8,          # number of steps before performing a backward/update pass\n",
    "    gradient_checkpointing=True,            # use gradient checkpointing to save memory\n",
    "    optim=\"adamw_torch_fused\",              # use fused adamw optimizer\n",
    "    logging_steps=5,                       # log every 10 steps\n",
    "    save_strategy=\"epoch\",                  # save checkpoint every epoch\n",
    "    learning_rate=2e-4,                     # learning rate, based on QLoRA paper\n",
    "    bf16=True,                              # use bfloat16 precision\n",
    "    max_grad_norm=0.3,                      # max gradient norm based on QLoRA paper\n",
    "    warmup_ratio=0.03,                      # warmup ratio based on QLoRA paper\n",
    "    lr_scheduler_type=\"constant\",           # use constant learning rate scheduler\n",
    "    report_to=\"none\",                # report metrics to tensorboard\n",
    "    gradient_checkpointing_kwargs = {\"use_reentrant\": False}, # use reentrant checkpointing\n",
    "    dataset_text_field=\"\", # need a dummy field for collator\n",
    "    dataset_kwargs = {\"skip_prepare_dataset\": True} # important for collator\n",
    ")\n",
    "args.remove_unused_columns=False\n",
    "\n",
    "# Create a data collator to encode text and image pairs\n",
    "def collate_fn(examples):\n",
    "    # Get the texts and images, and apply the chat template\n",
    "    texts = [processor.apply_chat_template(example[\"messages\"], tokenize=False) for example in examples]\n",
    "    image_inputs = [process_vision_info(example[\"messages\"])[0] for example in examples]\n",
    "\n",
    "    # Tokenize the texts and process the images\n",
    "    batch = processor(text=texts, images=image_inputs, return_tensors=\"pt\", padding=True)\n",
    "\n",
    "    # The labels are the input_ids, and we mask the padding tokens in the loss computation\n",
    "    labels = batch[\"input_ids\"].clone()\n",
    "    labels[labels == processor.tokenizer.pad_token_id] = -100  #\n",
    "    # Ignore the image token index in the loss computation (model specific)\n",
    "    if isinstance(processor, Qwen2VLProcessor):\n",
    "        image_tokens = [151652,151653,151655]\n",
    "    else: \n",
    "        image_tokens = [processor.tokenizer.convert_tokens_to_ids(processor.image_token)]\n",
    "    for image_token_id in image_tokens:\n",
    "        labels[labels == image_token_id] = -100\n",
    "    batch[\"labels\"] = labels\n",
    "\n",
    "    return batch"
   ]
  },
  {
   "cell_type": "code",
   "execution_count": 8,
   "id": "93ac2238-f462-4390-b890-d75dfab777c5",
   "metadata": {},
   "outputs": [
    {
     "name": "stderr",
     "output_type": "stream",
     "text": [
      "No label_names provided for model class `PeftModelForCausalLM`. Since `PeftModel` hides base models input arguments, if label_names is not given, label_names can't be set automatically within `Trainer`. Note that empty label_names list will be used instead.\n"
     ]
    }
   ],
   "source": [
    "from trl import SFTTrainer\n",
    "\n",
    "trainer = SFTTrainer(\n",
    "    model=model,\n",
    "    args=args,\n",
    "    train_dataset=train_dataset,\n",
    "    data_collator=collate_fn,\n",
    "    #dataset_text_field=\"\", # needs dummy value\n",
    "    peft_config=peft_config,\n",
    "    processing_class=processor,\n",
    ")"
   ]
  },
  {
   "cell_type": "code",
   "execution_count": 9,
   "id": "6bf6df81-b162-4f06-b2f7-8152e7ff975b",
   "metadata": {},
   "outputs": [
    {
     "name": "stderr",
     "output_type": "stream",
     "text": [
      "`use_cache=True` is incompatible with gradient checkpointing. Setting `use_cache=False`...\n"
     ]
    },
    {
     "data": {
      "text/html": [
       "\n",
       "    <div>\n",
       "      \n",
       "      <progress value='124' max='124' style='width:300px; height:20px; vertical-align: middle;'></progress>\n",
       "      [124/124 07:07, Epoch 1/2]\n",
       "    </div>\n",
       "    <table border=\"1\" class=\"dataframe\">\n",
       "  <thead>\n",
       " <tr style=\"text-align: left;\">\n",
       "      <th>Step</th>\n",
       "      <th>Training Loss</th>\n",
       "    </tr>\n",
       "  </thead>\n",
       "  <tbody>\n",
       "    <tr>\n",
       "      <td>5</td>\n",
       "      <td>3.416800</td>\n",
       "    </tr>\n",
       "    <tr>\n",
       "      <td>10</td>\n",
       "      <td>2.926000</td>\n",
       "    </tr>\n",
       "    <tr>\n",
       "      <td>15</td>\n",
       "      <td>2.373200</td>\n",
       "    </tr>\n",
       "    <tr>\n",
       "      <td>20</td>\n",
       "      <td>1.943900</td>\n",
       "    </tr>\n",
       "    <tr>\n",
       "      <td>25</td>\n",
       "      <td>1.659600</td>\n",
       "    </tr>\n",
       "    <tr>\n",
       "      <td>30</td>\n",
       "      <td>1.636300</td>\n",
       "    </tr>\n",
       "    <tr>\n",
       "      <td>35</td>\n",
       "      <td>1.498500</td>\n",
       "    </tr>\n",
       "    <tr>\n",
       "      <td>40</td>\n",
       "      <td>1.376600</td>\n",
       "    </tr>\n",
       "    <tr>\n",
       "      <td>45</td>\n",
       "      <td>1.463900</td>\n",
       "    </tr>\n",
       "    <tr>\n",
       "      <td>50</td>\n",
       "      <td>1.384300</td>\n",
       "    </tr>\n",
       "    <tr>\n",
       "      <td>55</td>\n",
       "      <td>1.340000</td>\n",
       "    </tr>\n",
       "    <tr>\n",
       "      <td>60</td>\n",
       "      <td>1.365000</td>\n",
       "    </tr>\n",
       "    <tr>\n",
       "      <td>65</td>\n",
       "      <td>1.163800</td>\n",
       "    </tr>\n",
       "    <tr>\n",
       "      <td>70</td>\n",
       "      <td>1.186800</td>\n",
       "    </tr>\n",
       "    <tr>\n",
       "      <td>75</td>\n",
       "      <td>1.192800</td>\n",
       "    </tr>\n",
       "    <tr>\n",
       "      <td>80</td>\n",
       "      <td>1.113200</td>\n",
       "    </tr>\n",
       "    <tr>\n",
       "      <td>85</td>\n",
       "      <td>1.140700</td>\n",
       "    </tr>\n",
       "    <tr>\n",
       "      <td>90</td>\n",
       "      <td>1.153800</td>\n",
       "    </tr>\n",
       "    <tr>\n",
       "      <td>95</td>\n",
       "      <td>1.122200</td>\n",
       "    </tr>\n",
       "    <tr>\n",
       "      <td>100</td>\n",
       "      <td>1.105200</td>\n",
       "    </tr>\n",
       "    <tr>\n",
       "      <td>105</td>\n",
       "      <td>1.142200</td>\n",
       "    </tr>\n",
       "    <tr>\n",
       "      <td>110</td>\n",
       "      <td>1.129300</td>\n",
       "    </tr>\n",
       "    <tr>\n",
       "      <td>115</td>\n",
       "      <td>1.142600</td>\n",
       "    </tr>\n",
       "    <tr>\n",
       "      <td>120</td>\n",
       "      <td>1.137100</td>\n",
       "    </tr>\n",
       "  </tbody>\n",
       "</table><p>"
      ],
      "text/plain": [
       "<IPython.core.display.HTML object>"
      ]
     },
     "metadata": {},
     "output_type": "display_data"
    }
   ],
   "source": [
    "# start training, the model will be automatically saved to the hub and the output directory\n",
    "trainer.train()\n",
    "\n",
    "# save model \n",
    "trainer.save_model(\"peft-qwen2-7vl-french-ocr-adapter\")"
   ]
  },
  {
   "cell_type": "markdown",
   "id": "3115afb9-6f9a-4c8b-99da-c9dbd1721928",
   "metadata": {},
   "source": [
    "# Load adapter model and measure adapter performance"
   ]
  },
  {
   "cell_type": "code",
   "execution_count": 10,
   "id": "55f7da1c-e8d4-4ae8-871e-e63359e7ab8c",
   "metadata": {},
   "outputs": [
    {
     "data": {
      "application/vnd.jupyter.widget-view+json": {
       "model_id": "ef61cf9fdff044a0a3276c3e6011665d",
       "version_major": 2,
       "version_minor": 0
      },
      "text/plain": [
       "Loading checkpoint shards:   0%|          | 0/5 [00:00<?, ?it/s]"
      ]
     },
     "metadata": {},
     "output_type": "display_data"
    }
   ],
   "source": [
    "# Load Base_Model\n",
    "\n",
    "\n",
    "model_id = \"Qwen/Qwen2-VL-7B-Instruct\" \n",
    "# Load Model base model\n",
    "model = AutoModelForVision2Seq.from_pretrained(\n",
    "  model_id,\n",
    "  device_map=\"auto\",\n",
    "  torch_dtype=torch.bfloat16\n",
    ")\n",
    "processor = AutoProcessor.from_pretrained(model_id)"
   ]
  },
  {
   "cell_type": "code",
   "execution_count": 11,
   "id": "3d152ff9-a1bb-4b7c-a3b3-784fa3a05c10",
   "metadata": {},
   "outputs": [],
   "source": [
    "# Load adapter on top of base model\n",
    "adapter_path = \"./peft-qwen2-7vl-french-ocr-adapter\"\n",
    "model.load_adapter(adapter_path)"
   ]
  },
  {
   "cell_type": "code",
   "execution_count": 12,
   "id": "39a869b3-9b7c-40aa-bf60-a431f2bb2899",
   "metadata": {},
   "outputs": [
    {
     "name": "stderr",
     "output_type": "stream",
     "text": [
      "Evaluating OCR performance: 100%|████████████████████████████████████████████████████████████████████████████████████████████████████████████████████████████| 200/200 [02:38<00:00,  1.26it/s]"
     ]
    },
    {
     "name": "stdout",
     "output_type": "stream",
     "text": [
      "\n",
      "Results Summary:\n",
      "Average WER: 0.0386\n",
      "Average CER: 0.0160\n",
      "\n",
      "Detailed results saved to peft_lora_model_results/\n"
     ]
    },
    {
     "name": "stderr",
     "output_type": "stream",
     "text": [
      "\n"
     ]
    }
   ],
   "source": [
    "# benchmark lora model performance\n",
    "model_name = \"Peft lora model\" \n",
    "avg_wer, avg_cer = evaluate_ocr_model(model, processor, eval_dataset, output_dir=\"peft_lora_model_results\")\n",
    "add_to_comparison(model_name, avg_wer, avg_cer)"
   ]
  },
  {
   "cell_type": "markdown",
   "id": "c2ce4774-bb0d-4ed5-b8f6-5ce10367553c",
   "metadata": {},
   "source": [
    "# Merge Model"
   ]
  },
  {
   "cell_type": "code",
   "execution_count": 13,
   "id": "801d00f2-1711-4cc3-ac1a-d2eb4bcd3a83",
   "metadata": {},
   "outputs": [
    {
     "data": {
      "application/vnd.jupyter.widget-view+json": {
       "model_id": "e3bb67822462403bb66dfa0f34a9d30d",
       "version_major": 2,
       "version_minor": 0
      },
      "text/plain": [
       "Loading checkpoint shards:   0%|          | 0/5 [00:00<?, ?it/s]"
      ]
     },
     "metadata": {},
     "output_type": "display_data"
    },
    {
     "data": {
      "text/plain": [
       "[]"
      ]
     },
     "execution_count": 13,
     "metadata": {},
     "output_type": "execute_result"
    }
   ],
   "source": [
    "from peft import PeftModel\n",
    "from transformers import AutoProcessor, AutoModelForVision2Seq\n",
    "\n",
    "adapter_path = \"./peft-qwen2-7vl-french-ocr-adapter\"\n",
    "base_model_id = \"unsloth/Qwen2-VL-7B-Instruct\"\n",
    "merged_path = \"peft_merged_model_french_ocr_qwen7-vl\"\n",
    "\n",
    "# Load Model base model\n",
    "model = AutoModelForVision2Seq.from_pretrained(model_id, low_cpu_mem_usage=True)\n",
    "\n",
    "# Path to save the merged model\n",
    "\n",
    "# Merge LoRA and base model and save\n",
    "peft_model = PeftModel.from_pretrained(model, adapter_path)\n",
    "merged_model = peft_model.merge_and_unload()\n",
    "merged_model.save_pretrained(merged_path,safe_serialization=True, max_shard_size=\"2GB\")\n",
    "\n",
    "processor = AutoProcessor.from_pretrained(base_model_id)\n",
    "processor.save_pretrained(merged_path)"
   ]
  },
  {
   "cell_type": "markdown",
   "id": "e8a99b40-3716-4b02-8f69-96c67ab3cf32",
   "metadata": {},
   "source": [
    "# Benchmark merged model performance"
   ]
  },
  {
   "cell_type": "markdown",
   "id": "ae0d4732-125f-4bbb-9e96-b28b5adc14b6",
   "metadata": {},
   "source": [
    "## load merged model in 4 bits"
   ]
  },
  {
   "cell_type": "code",
   "execution_count": 14,
   "id": "03c5c6c7-2e70-473c-92ac-a1e4a6566f05",
   "metadata": {},
   "outputs": [
    {
     "data": {
      "application/vnd.jupyter.widget-view+json": {
       "model_id": "580e58ae770347429a4e54f393cec082",
       "version_major": 2,
       "version_minor": 0
      },
      "text/plain": [
       "Loading checkpoint shards:   0%|          | 0/18 [00:00<?, ?it/s]"
      ]
     },
     "metadata": {},
     "output_type": "display_data"
    }
   ],
   "source": [
    "# model = AutoModelForVision2Seq.from_pretrained(\n",
    "#   \"./merged_model_french_ocr_qwen7-vl\",\n",
    "#   torch_dtype=torch.bfloat16\n",
    "# )\n",
    "from transformers import AutoModelForVision2Seq, AutoProcessor, BitsAndBytesConfig,Qwen2VLProcessor\n",
    "from peft import LoraConfig\n",
    "from qwen_vl_utils import process_vision_info\n",
    "merged_path = \"peft_merged_model_french_ocr_qwen7-vl\"\n",
    "\n",
    "# BitsAndBytesConfig int-4 config\n",
    "bnb_config = BitsAndBytesConfig(\n",
    "    load_in_4bit=True, bnb_4bit_use_double_quant=True, bnb_4bit_quant_type=\"nf4\", bnb_4bit_compute_dtype=torch.bfloat16\n",
    ")\n",
    "\n",
    "# Load model and tokenizer\n",
    "merged_model = AutoModelForVision2Seq.from_pretrained(\n",
    "    merged_path,\n",
    "    device_map=\"auto\",\n",
    "    # attn_implementation=\"flash_attention_2\", # not supported for training\n",
    "    torch_dtype=torch.bfloat16,\n",
    "    quantization_config=bnb_config\n",
    ")\n",
    "merged_processor = AutoProcessor.from_pretrained(merged_path)"
   ]
  },
  {
   "cell_type": "code",
   "execution_count": 15,
   "id": "f9afcd72-8d81-4fd3-9ce7-0a5516ea7ed9",
   "metadata": {},
   "outputs": [
    {
     "name": "stderr",
     "output_type": "stream",
     "text": [
      "Evaluating OCR performance: 100%|████████████████████████████████████████████████████████████████████████████████████████████████████████████████████████████| 200/200 [03:33<00:00,  1.07s/it]"
     ]
    },
    {
     "name": "stdout",
     "output_type": "stream",
     "text": [
      "\n",
      "Results Summary:\n",
      "Average WER: 1.8805\n",
      "Average CER: 1.3268\n",
      "\n",
      "Detailed results saved to peft_merged_model_4bit_ocr_results/\n"
     ]
    },
    {
     "name": "stderr",
     "output_type": "stream",
     "text": [
      "\n"
     ]
    }
   ],
   "source": [
    "# benchmark 4bits lora model performance\n",
    "model_name = \"Merged model 4bits\" \n",
    "avg_wer, avg_cer = evaluate_ocr_model(merged_model, merged_processor, eval_dataset, output_dir=\"peft_merged_model_4bit_ocr_results\")\n",
    "add_to_comparison(model_name, avg_wer, avg_cer)"
   ]
  },
  {
   "cell_type": "markdown",
   "id": "16791257-6a20-4a78-8c13-04277bc497a8",
   "metadata": {},
   "source": [
    "## load merged model in 8 bits"
   ]
  },
  {
   "cell_type": "code",
   "execution_count": 16,
   "id": "d1e6ce2b-3148-4849-9af5-88fa3ae3db74",
   "metadata": {},
   "outputs": [
    {
     "data": {
      "application/vnd.jupyter.widget-view+json": {
       "model_id": "8a6ca5985b97441abeba30c8d0a498fb",
       "version_major": 2,
       "version_minor": 0
      },
      "text/plain": [
       "Loading checkpoint shards:   0%|          | 0/18 [00:00<?, ?it/s]"
      ]
     },
     "metadata": {},
     "output_type": "display_data"
    }
   ],
   "source": [
    "from transformers import AutoModelForVision2Seq, AutoProcessor, BitsAndBytesConfig,Qwen2VLProcessor\n",
    "from peft import LoraConfig\n",
    "from qwen_vl_utils import process_vision_info\n",
    "\n",
    "\n",
    "quantization_config = BitsAndBytesConfig(load_in_8bit=True)\n",
    "\n",
    "merged_model = AutoModelForVision2Seq.from_pretrained(\n",
    "    merged_path,\n",
    "    device_map=\"auto\",\n",
    "    quantization_config=quantization_config\n",
    ")\n",
    "\n",
    "merged_processor = AutoProcessor.from_pretrained(merged_path)"
   ]
  },
  {
   "cell_type": "code",
   "execution_count": 17,
   "id": "af7fe047-ed82-4b05-a430-3df674011276",
   "metadata": {},
   "outputs": [
    {
     "name": "stderr",
     "output_type": "stream",
     "text": [
      "Evaluating OCR performance: 100%|████████████████████████████████████████████████████████████████████████████████████████████████████████████████████████████| 200/200 [06:53<00:00,  2.07s/it]"
     ]
    },
    {
     "name": "stdout",
     "output_type": "stream",
     "text": [
      "\n",
      "Results Summary:\n",
      "Average WER: 0.0381\n",
      "Average CER: 0.0136\n",
      "\n",
      "Detailed results saved to peft_merged_model_4bit_ocr_results/\n"
     ]
    },
    {
     "name": "stderr",
     "output_type": "stream",
     "text": [
      "\n"
     ]
    }
   ],
   "source": [
    "# benchmark 8 bits lora model performance\n",
    "model_name = \"Merged model 8bits\" \n",
    "avg_wer, avg_cer = evaluate_ocr_model(merged_model, merged_processor, eval_dataset, output_dir=\"peft_merged_model_4bit_ocr_results\")\n",
    "add_to_comparison(model_name, avg_wer, avg_cer)"
   ]
  },
  {
   "cell_type": "markdown",
   "id": "2f51cab5-9e3f-496b-a987-86248a3d02cf",
   "metadata": {},
   "source": [
    "# Model performance comparison report"
   ]
  },
  {
   "cell_type": "code",
   "execution_count": 18,
   "id": "067fa460-dd39-4540-add5-3e106ed28bcb",
   "metadata": {},
   "outputs": [
    {
     "name": "stdout",
     "output_type": "stream",
     "text": [
      "\n",
      "==== MODEL COMPARISON REPORT ====\n",
      "\n",
      "Comparison Table (sorted by WER):\n",
      "             Model      WER      CER\n",
      "Merged model 8bits 0.038061 0.013620\n",
      "   Peft lora model 0.038568 0.015985\n",
      "Merged model 4bits 1.880497 1.326828\n",
      "        Base model 3.607724 2.718979\n",
      "\n",
      "Comparison table saved to model_comparison_results.csv\n"
     ]
    },
    {
     "data": {
      "image/png": "[encoded data removed]",
      "text/plain": [
       "<Figure size 1200x600 with 2 Axes>"
      ]
     },
     "metadata": {},
     "output_type": "display_data"
    },
    {
     "name": "stdout",
     "output_type": "stream",
     "text": [
      "\n",
      "Visualization saved to ocr_model_comparison.png\n"
     ]
    },
    {
     "data": {
      "text/html": [
       "<div>\n",
       "<style scoped>\n",
       "    .dataframe tbody tr th:only-of-type {\n",
       "        vertical-align: middle;\n",
       "    }\n",
       "\n",
       "    .dataframe tbody tr th {\n",
       "        vertical-align: top;\n",
       "    }\n",
       "\n",
       "    .dataframe thead th {\n",
       "        text-align: right;\n",
       "    }\n",
       "</style>\n",
       "<table border=\"1\" class=\"dataframe\">\n",
       "  <thead>\n",
       "    <tr style=\"text-align: right;\">\n",
       "      <th></th>\n",
       "      <th>Model</th>\n",
       "      <th>WER</th>\n",
       "      <th>CER</th>\n",
       "    </tr>\n",
       "  </thead>\n",
       "  <tbody>\n",
       "    <tr>\n",
       "      <th>3</th>\n",
       "      <td>Merged model 8bits</td>\n",
       "      <td>0.038061</td>\n",
       "      <td>0.013620</td>\n",
       "    </tr>\n",
       "    <tr>\n",
       "      <th>1</th>\n",
       "      <td>Peft lora model</td>\n",
       "      <td>0.038568</td>\n",
       "      <td>0.015985</td>\n",
       "    </tr>\n",
       "    <tr>\n",
       "      <th>2</th>\n",
       "      <td>Merged model 4bits</td>\n",
       "      <td>1.880497</td>\n",
       "      <td>1.326828</td>\n",
       "    </tr>\n",
       "    <tr>\n",
       "      <th>0</th>\n",
       "      <td>Base model</td>\n",
       "      <td>3.607724</td>\n",
       "      <td>2.718979</td>\n",
       "    </tr>\n",
       "  </tbody>\n",
       "</table>\n",
       "</div>"
      ],
      "text/plain": [
       "                Model       WER       CER\n",
       "3  Merged model 8bits  0.038061  0.013620\n",
       "1     Peft lora model  0.038568  0.015985\n",
       "2  Merged model 4bits  1.880497  1.326828\n",
       "0          Base model  3.607724  2.718979"
      ]
     },
     "execution_count": 18,
     "metadata": {},
     "output_type": "execute_result"
    }
   ],
   "source": [
    "import matplotlib\n",
    "#print model comparison\n",
    "print_model_comparison()"
   ]
  },
  {
   "cell_type": "code",
   "execution_count": null,
   "id": "7472d75a-eff5-4177-8bac-4f112e8b735a",
   "metadata": {},
   "outputs": [],
   "source": []
  }
 ],
 "metadata": {
  "kernelspec": {
   "display_name": "Python 3 (ipykernel)",
   "language": "python",
   "name": "python3"
  },
  "language_info": {
   "codemirror_mode": {
    "name": "ipython",
    "version": 3
   },
   "file_extension": ".py",
   "mimetype": "text/x-python",
   "name": "python",
   "nbconvert_exporter": "python",
   "pygments_lexer": "ipython3",
   "version": "3.11.0"
  }
 },
 "nbformat": 4,
 "nbformat_minor": 5
}
